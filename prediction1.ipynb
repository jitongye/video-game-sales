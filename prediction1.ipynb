{
 "cells": [
  {
   "cell_type": "code",
   "execution_count": 1,
   "id": "436bf69b",
   "metadata": {},
   "outputs": [],
   "source": [
    "import pandas as pd\n",
    "import numpy as np\n",
    "import seaborn as sns\n",
    "sns.set()\n",
    "from pandas import DataFrame, Series\n",
    "import matplotlib.pyplot as plt\n",
    "import matplotlib.mlab as mlab \n",
    "%matplotlib notebook"
   ]
  },
  {
   "cell_type": "code",
   "execution_count": 2,
   "id": "8c5120a5",
   "metadata": {},
   "outputs": [],
   "source": [
    "df = pd.read_csv('vgsales.csv')"
   ]
  },
  {
   "cell_type": "code",
   "execution_count": 3,
   "id": "72ee2b39",
   "metadata": {},
   "outputs": [
    {
     "data": {
      "text/html": [
       "<div>\n",
       "<style scoped>\n",
       "    .dataframe tbody tr th:only-of-type {\n",
       "        vertical-align: middle;\n",
       "    }\n",
       "\n",
       "    .dataframe tbody tr th {\n",
       "        vertical-align: top;\n",
       "    }\n",
       "\n",
       "    .dataframe thead th {\n",
       "        text-align: right;\n",
       "    }\n",
       "</style>\n",
       "<table border=\"1\" class=\"dataframe\">\n",
       "  <thead>\n",
       "    <tr style=\"text-align: right;\">\n",
       "      <th></th>\n",
       "      <th>Rank</th>\n",
       "      <th>Name</th>\n",
       "      <th>Platform</th>\n",
       "      <th>Year</th>\n",
       "      <th>Genre</th>\n",
       "      <th>Publisher</th>\n",
       "      <th>NA_Sales</th>\n",
       "      <th>EU_Sales</th>\n",
       "      <th>JP_Sales</th>\n",
       "      <th>Other_Sales</th>\n",
       "      <th>Global_Sales</th>\n",
       "    </tr>\n",
       "  </thead>\n",
       "  <tbody>\n",
       "    <tr>\n",
       "      <th>0</th>\n",
       "      <td>1</td>\n",
       "      <td>Wii Sports</td>\n",
       "      <td>Wii</td>\n",
       "      <td>2006.0</td>\n",
       "      <td>Sports</td>\n",
       "      <td>Nintendo</td>\n",
       "      <td>41.49</td>\n",
       "      <td>29.02</td>\n",
       "      <td>3.77</td>\n",
       "      <td>8.46</td>\n",
       "      <td>82.74</td>\n",
       "    </tr>\n",
       "    <tr>\n",
       "      <th>1</th>\n",
       "      <td>2</td>\n",
       "      <td>Super Mario Bros.</td>\n",
       "      <td>NES</td>\n",
       "      <td>1985.0</td>\n",
       "      <td>Platform</td>\n",
       "      <td>Nintendo</td>\n",
       "      <td>29.08</td>\n",
       "      <td>3.58</td>\n",
       "      <td>6.81</td>\n",
       "      <td>0.77</td>\n",
       "      <td>40.24</td>\n",
       "    </tr>\n",
       "    <tr>\n",
       "      <th>2</th>\n",
       "      <td>3</td>\n",
       "      <td>Mario Kart Wii</td>\n",
       "      <td>Wii</td>\n",
       "      <td>2008.0</td>\n",
       "      <td>Racing</td>\n",
       "      <td>Nintendo</td>\n",
       "      <td>15.85</td>\n",
       "      <td>12.88</td>\n",
       "      <td>3.79</td>\n",
       "      <td>3.31</td>\n",
       "      <td>35.82</td>\n",
       "    </tr>\n",
       "    <tr>\n",
       "      <th>3</th>\n",
       "      <td>4</td>\n",
       "      <td>Wii Sports Resort</td>\n",
       "      <td>Wii</td>\n",
       "      <td>2009.0</td>\n",
       "      <td>Sports</td>\n",
       "      <td>Nintendo</td>\n",
       "      <td>15.75</td>\n",
       "      <td>11.01</td>\n",
       "      <td>3.28</td>\n",
       "      <td>2.96</td>\n",
       "      <td>33.00</td>\n",
       "    </tr>\n",
       "    <tr>\n",
       "      <th>4</th>\n",
       "      <td>5</td>\n",
       "      <td>Pokemon Red/Pokemon Blue</td>\n",
       "      <td>GB</td>\n",
       "      <td>1996.0</td>\n",
       "      <td>Role-Playing</td>\n",
       "      <td>Nintendo</td>\n",
       "      <td>11.27</td>\n",
       "      <td>8.89</td>\n",
       "      <td>10.22</td>\n",
       "      <td>1.00</td>\n",
       "      <td>31.37</td>\n",
       "    </tr>\n",
       "  </tbody>\n",
       "</table>\n",
       "</div>"
      ],
      "text/plain": [
       "   Rank                      Name Platform    Year         Genre Publisher  \\\n",
       "0     1                Wii Sports      Wii  2006.0        Sports  Nintendo   \n",
       "1     2         Super Mario Bros.      NES  1985.0      Platform  Nintendo   \n",
       "2     3            Mario Kart Wii      Wii  2008.0        Racing  Nintendo   \n",
       "3     4         Wii Sports Resort      Wii  2009.0        Sports  Nintendo   \n",
       "4     5  Pokemon Red/Pokemon Blue       GB  1996.0  Role-Playing  Nintendo   \n",
       "\n",
       "   NA_Sales  EU_Sales  JP_Sales  Other_Sales  Global_Sales  \n",
       "0     41.49     29.02      3.77         8.46         82.74  \n",
       "1     29.08      3.58      6.81         0.77         40.24  \n",
       "2     15.85     12.88      3.79         3.31         35.82  \n",
       "3     15.75     11.01      3.28         2.96         33.00  \n",
       "4     11.27      8.89     10.22         1.00         31.37  "
      ]
     },
     "execution_count": 3,
     "metadata": {},
     "output_type": "execute_result"
    }
   ],
   "source": [
    "df.head()"
   ]
  },
  {
   "cell_type": "code",
   "execution_count": 4,
   "id": "3537219e",
   "metadata": {},
   "outputs": [
    {
     "data": {
      "text/plain": [
       "(16598, 11)"
      ]
     },
     "execution_count": 4,
     "metadata": {},
     "output_type": "execute_result"
    }
   ],
   "source": [
    "df.shape"
   ]
  },
  {
   "cell_type": "code",
   "execution_count": 5,
   "id": "fb7f9992",
   "metadata": {},
   "outputs": [
    {
     "data": {
      "text/plain": [
       "Index(['Rank', 'Name', 'Platform', 'Year', 'Genre', 'Publisher', 'NA_Sales',\n",
       "       'EU_Sales', 'JP_Sales', 'Other_Sales', 'Global_Sales'],\n",
       "      dtype='object')"
      ]
     },
     "execution_count": 5,
     "metadata": {},
     "output_type": "execute_result"
    }
   ],
   "source": [
    "df.columns"
   ]
  },
  {
   "cell_type": "code",
   "execution_count": 6,
   "id": "c681c14b",
   "metadata": {},
   "outputs": [
    {
     "data": {
      "text/plain": [
       "0"
      ]
     },
     "execution_count": 6,
     "metadata": {},
     "output_type": "execute_result"
    }
   ],
   "source": [
    "df.duplicated().sum()"
   ]
  },
  {
   "cell_type": "code",
   "execution_count": 7,
   "id": "cf5b0cef",
   "metadata": {},
   "outputs": [
    {
     "data": {
      "text/plain": [
       "Rank              0\n",
       "Name              0\n",
       "Platform          0\n",
       "Year            271\n",
       "Genre             0\n",
       "Publisher        58\n",
       "NA_Sales          0\n",
       "EU_Sales          0\n",
       "JP_Sales          0\n",
       "Other_Sales       0\n",
       "Global_Sales      0\n",
       "dtype: int64"
      ]
     },
     "execution_count": 7,
     "metadata": {},
     "output_type": "execute_result"
    }
   ],
   "source": [
    "df.isnull().sum()"
   ]
  },
  {
   "cell_type": "code",
   "execution_count": 8,
   "id": "db32a3c3",
   "metadata": {},
   "outputs": [
    {
     "name": "stdout",
     "output_type": "stream",
     "text": [
      "<class 'pandas.core.frame.DataFrame'>\n",
      "RangeIndex: 16598 entries, 0 to 16597\n",
      "Data columns (total 11 columns):\n",
      " #   Column        Non-Null Count  Dtype  \n",
      "---  ------        --------------  -----  \n",
      " 0   Rank          16598 non-null  int64  \n",
      " 1   Name          16598 non-null  object \n",
      " 2   Platform      16598 non-null  object \n",
      " 3   Year          16327 non-null  float64\n",
      " 4   Genre         16598 non-null  object \n",
      " 5   Publisher     16540 non-null  object \n",
      " 6   NA_Sales      16598 non-null  float64\n",
      " 7   EU_Sales      16598 non-null  float64\n",
      " 8   JP_Sales      16598 non-null  float64\n",
      " 9   Other_Sales   16598 non-null  float64\n",
      " 10  Global_Sales  16598 non-null  float64\n",
      "dtypes: float64(6), int64(1), object(4)\n",
      "memory usage: 1.4+ MB\n"
     ]
    }
   ],
   "source": [
    "df.info()"
   ]
  },
  {
   "cell_type": "code",
   "execution_count": 9,
   "id": "019df8c4",
   "metadata": {},
   "outputs": [],
   "source": [
    "# data cleaning\n",
    "sales = df.copy()"
   ]
  },
  {
   "cell_type": "code",
   "execution_count": 10,
   "id": "4b0b63db",
   "metadata": {},
   "outputs": [
    {
     "data": {
      "text/plain": [
       "Rank              0\n",
       "Name              0\n",
       "Platform          0\n",
       "Year            271\n",
       "Genre             0\n",
       "Publisher        58\n",
       "NA_Sales          0\n",
       "EU_Sales          0\n",
       "JP_Sales          0\n",
       "Other_Sales       0\n",
       "Global_Sales      0\n",
       "dtype: int64"
      ]
     },
     "execution_count": 10,
     "metadata": {},
     "output_type": "execute_result"
    }
   ],
   "source": [
    "sales.isna().sum()\n"
   ]
  },
  {
   "cell_type": "code",
   "execution_count": 11,
   "id": "76c84c11",
   "metadata": {},
   "outputs": [
    {
     "data": {
      "text/plain": [
       "329"
      ]
     },
     "execution_count": 11,
     "metadata": {},
     "output_type": "execute_result"
    }
   ],
   "source": [
    "sales.isna().sum().sum()"
   ]
  },
  {
   "cell_type": "code",
   "execution_count": 12,
   "id": "060fbd83",
   "metadata": {},
   "outputs": [
    {
     "data": {
      "text/plain": [
       "Rank            0\n",
       "Name            0\n",
       "Platform        0\n",
       "Year            0\n",
       "Genre           0\n",
       "Publisher       0\n",
       "NA_Sales        0\n",
       "EU_Sales        0\n",
       "JP_Sales        0\n",
       "Other_Sales     0\n",
       "Global_Sales    0\n",
       "dtype: int64"
      ]
     },
     "execution_count": 12,
     "metadata": {},
     "output_type": "execute_result"
    }
   ],
   "source": [
    "sales.replace(\"nan\", np.nan, inplace=True)\n",
    "sales = sales.dropna()\n",
    "sales.isnull().sum()"
   ]
  },
  {
   "cell_type": "code",
   "execution_count": 13,
   "id": "d49057cc",
   "metadata": {},
   "outputs": [
    {
     "data": {
      "text/plain": [
       "(16291, 11)"
      ]
     },
     "execution_count": 13,
     "metadata": {},
     "output_type": "execute_result"
    }
   ],
   "source": [
    "sales.shape"
   ]
  },
  {
   "cell_type": "code",
   "execution_count": 14,
   "id": "998d355a",
   "metadata": {},
   "outputs": [
    {
     "name": "stdout",
     "output_type": "stream",
     "text": [
      "<class 'pandas.core.frame.DataFrame'>\n",
      "Index: 16291 entries, 0 to 16597\n",
      "Data columns (total 11 columns):\n",
      " #   Column        Non-Null Count  Dtype  \n",
      "---  ------        --------------  -----  \n",
      " 0   Rank          16291 non-null  int64  \n",
      " 1   Name          16291 non-null  object \n",
      " 2   Platform      16291 non-null  object \n",
      " 3   Year          16291 non-null  int32  \n",
      " 4   Genre         16291 non-null  object \n",
      " 5   Publisher     16291 non-null  object \n",
      " 6   NA_Sales      16291 non-null  float64\n",
      " 7   EU_Sales      16291 non-null  float64\n",
      " 8   JP_Sales      16291 non-null  float64\n",
      " 9   Other_Sales   16291 non-null  float64\n",
      " 10  Global_Sales  16291 non-null  float64\n",
      "dtypes: float64(5), int32(1), int64(1), object(4)\n",
      "memory usage: 1.4+ MB\n"
     ]
    }
   ],
   "source": [
    "# Convert data type\n",
    "sales['Year'] = sales['Year'].astype('int32', errors='ignore')\n",
    "sales.info()"
   ]
  },
  {
   "cell_type": "code",
   "execution_count": 15,
   "id": "1a7e004b",
   "metadata": {},
   "outputs": [
    {
     "data": {
      "text/plain": [
       "Rank                                     27\n",
       "Name            Pokemon Black/Pokemon White\n",
       "Platform                                 DS\n",
       "Year                                   2010\n",
       "Genre                          Role-Playing\n",
       "Publisher                          Nintendo\n",
       "NA_Sales                               5.57\n",
       "EU_Sales                               3.28\n",
       "JP_Sales                               5.65\n",
       "Other_Sales                            0.82\n",
       "Global_Sales                          15.32\n",
       "Name: 26, dtype: object"
      ]
     },
     "execution_count": 15,
     "metadata": {},
     "output_type": "execute_result"
    }
   ],
   "source": [
    "sales.iloc[26, :]"
   ]
  },
  {
   "cell_type": "markdown",
   "id": "2893abed",
   "metadata": {},
   "source": [
    "Begining of Prediction, which market should we focus?"
   ]
  },
  {
   "cell_type": "code",
   "execution_count": 16,
   "id": "0f83d636",
   "metadata": {},
   "outputs": [],
   "source": [
    "#data filtering\n",
    "sales_after_2010 = sales[(sales.Year >= 2010) & (sales.Global_Sales > 1)]"
   ]
  },
  {
   "cell_type": "code",
   "execution_count": 85,
   "id": "ba4a7d84",
   "metadata": {},
   "outputs": [],
   "source": [
    "#Number of Gamers in EU, Japan, and North America from Statistia\n",
    "EU_Gamer, JP_Gamer, NA_Gamer, Global_Gamer, Other_Gamer = 275, 74, 285, 3090, 2460 "
   ]
  },
  {
   "cell_type": "code",
   "execution_count": 86,
   "id": "36fad8c2",
   "metadata": {},
   "outputs": [
    {
     "data": {
      "text/plain": [
       "array(['X360', 'PS3', 'DS', '3DS', 'PS4', 'Wii', 'XOne', 'WiiU', 'PC',\n",
       "       'PSP', 'PSV'], dtype=object)"
      ]
     },
     "execution_count": 86,
     "metadata": {},
     "output_type": "execute_result"
    }
   ],
   "source": [
    "#check how many platforms are there\n",
    "sales_after_2010.Platform.unique()"
   ]
  },
  {
   "cell_type": "code",
   "execution_count": 87,
   "id": "33da5745",
   "metadata": {},
   "outputs": [
    {
     "name": "stderr",
     "output_type": "stream",
     "text": [
      "/var/folders/cy/p78z_yd10wb7gttsfxj36gmr0000gn/T/ipykernel_2142/1250304914.py:2: SettingWithCopyWarning: \n",
      "A value is trying to be set on a copy of a slice from a DataFrame.\n",
      "Try using .loc[row_indexer,col_indexer] = value instead\n",
      "\n",
      "See the caveats in the documentation: https://pandas.pydata.org/pandas-docs/stable/user_guide/indexing.html#returning-a-view-versus-a-copy\n",
      "  sales_after_2010['EU_Sales'] = sales_after_2010['EU_Sales']/EU_Gamer\n",
      "/var/folders/cy/p78z_yd10wb7gttsfxj36gmr0000gn/T/ipykernel_2142/1250304914.py:3: SettingWithCopyWarning: \n",
      "A value is trying to be set on a copy of a slice from a DataFrame.\n",
      "Try using .loc[row_indexer,col_indexer] = value instead\n",
      "\n",
      "See the caveats in the documentation: https://pandas.pydata.org/pandas-docs/stable/user_guide/indexing.html#returning-a-view-versus-a-copy\n",
      "  sales_after_2010['NA_Sales'] = sales_after_2010['NA_Sales']/NA_Gamer\n",
      "/var/folders/cy/p78z_yd10wb7gttsfxj36gmr0000gn/T/ipykernel_2142/1250304914.py:4: SettingWithCopyWarning: \n",
      "A value is trying to be set on a copy of a slice from a DataFrame.\n",
      "Try using .loc[row_indexer,col_indexer] = value instead\n",
      "\n",
      "See the caveats in the documentation: https://pandas.pydata.org/pandas-docs/stable/user_guide/indexing.html#returning-a-view-versus-a-copy\n",
      "  sales_after_2010['JP_Sales'] = sales_after_2010['JP_Sales']/JP_Gamer\n",
      "/var/folders/cy/p78z_yd10wb7gttsfxj36gmr0000gn/T/ipykernel_2142/1250304914.py:5: SettingWithCopyWarning: \n",
      "A value is trying to be set on a copy of a slice from a DataFrame.\n",
      "Try using .loc[row_indexer,col_indexer] = value instead\n",
      "\n",
      "See the caveats in the documentation: https://pandas.pydata.org/pandas-docs/stable/user_guide/indexing.html#returning-a-view-versus-a-copy\n",
      "  sales_after_2010['Global_Sales'] = sales_after_2010['Global_Sales']/Global_Gamer\n",
      "/var/folders/cy/p78z_yd10wb7gttsfxj36gmr0000gn/T/ipykernel_2142/1250304914.py:6: SettingWithCopyWarning: \n",
      "A value is trying to be set on a copy of a slice from a DataFrame.\n",
      "Try using .loc[row_indexer,col_indexer] = value instead\n",
      "\n",
      "See the caveats in the documentation: https://pandas.pydata.org/pandas-docs/stable/user_guide/indexing.html#returning-a-view-versus-a-copy\n",
      "  sales_after_2010['Other_Sales'] = sales_after_2010['Other_Sales']/Other_Gamer\n"
     ]
    }
   ],
   "source": [
    "#Normalize Sales by per capita\n",
    "sales_after_2010['EU_Sales'] = sales_after_2010['EU_Sales']/EU_Gamer\n",
    "sales_after_2010['NA_Sales'] = sales_after_2010['NA_Sales']/NA_Gamer\n",
    "sales_after_2010['JP_Sales'] = sales_after_2010['JP_Sales']/JP_Gamer\n",
    "sales_after_2010['Global_Sales'] = sales_after_2010['Global_Sales']/Global_Gamer\n",
    "sales_after_2010['Other_Sales'] = sales_after_2010['Other_Sales']/Other_Gamer"
   ]
  },
  {
   "cell_type": "code",
   "execution_count": 88,
   "id": "b7c773d4",
   "metadata": {},
   "outputs": [
    {
     "data": {
      "text/html": [
       "<div>\n",
       "<style scoped>\n",
       "    .dataframe tbody tr th:only-of-type {\n",
       "        vertical-align: middle;\n",
       "    }\n",
       "\n",
       "    .dataframe tbody tr th {\n",
       "        vertical-align: top;\n",
       "    }\n",
       "\n",
       "    .dataframe thead th {\n",
       "        text-align: right;\n",
       "    }\n",
       "</style>\n",
       "<table border=\"1\" class=\"dataframe\">\n",
       "  <thead>\n",
       "    <tr style=\"text-align: right;\">\n",
       "      <th></th>\n",
       "      <th>Rank</th>\n",
       "      <th>Name</th>\n",
       "      <th>Platform</th>\n",
       "      <th>Year</th>\n",
       "      <th>Genre</th>\n",
       "      <th>Publisher</th>\n",
       "      <th>NA_Sales</th>\n",
       "      <th>EU_Sales</th>\n",
       "      <th>JP_Sales</th>\n",
       "      <th>Other_Sales</th>\n",
       "      <th>Global_Sales</th>\n",
       "      <th>label</th>\n",
       "    </tr>\n",
       "  </thead>\n",
       "  <tbody>\n",
       "    <tr>\n",
       "      <th>15</th>\n",
       "      <td>16</td>\n",
       "      <td>Kinect Adventures!</td>\n",
       "      <td>X360</td>\n",
       "      <td>2010</td>\n",
       "      <td>Misc</td>\n",
       "      <td>Microsoft Game Studios</td>\n",
       "      <td>7.961548e-12</td>\n",
       "      <td>7.301489e-13</td>\n",
       "      <td>1.081565e-10</td>\n",
       "      <td>5.564429e-14</td>\n",
       "      <td>2.393431e-13</td>\n",
       "      <td>2.0</td>\n",
       "    </tr>\n",
       "    <tr>\n",
       "      <th>16</th>\n",
       "      <td>17</td>\n",
       "      <td>Grand Theft Auto V</td>\n",
       "      <td>PS3</td>\n",
       "      <td>2013</td>\n",
       "      <td>Action</td>\n",
       "      <td>Take-Two Interactive</td>\n",
       "      <td>3.728153e-12</td>\n",
       "      <td>1.370138e-12</td>\n",
       "      <td>4.371325e-10</td>\n",
       "      <td>1.379445e-13</td>\n",
       "      <td>2.347361e-13</td>\n",
       "      <td>2.0</td>\n",
       "    </tr>\n",
       "    <tr>\n",
       "      <th>23</th>\n",
       "      <td>24</td>\n",
       "      <td>Grand Theft Auto V</td>\n",
       "      <td>X360</td>\n",
       "      <td>2013</td>\n",
       "      <td>Action</td>\n",
       "      <td>Take-Two Interactive</td>\n",
       "      <td>5.121557e-12</td>\n",
       "      <td>7.848362e-13</td>\n",
       "      <td>2.703913e-11</td>\n",
       "      <td>4.598151e-14</td>\n",
       "      <td>1.796718e-13</td>\n",
       "      <td>2.0</td>\n",
       "    </tr>\n",
       "    <tr>\n",
       "      <th>26</th>\n",
       "      <td>27</td>\n",
       "      <td>Pokemon Black/Pokemon White</td>\n",
       "      <td>DS</td>\n",
       "      <td>2010</td>\n",
       "      <td>Role-Playing</td>\n",
       "      <td>Nintendo</td>\n",
       "      <td>2.962313e-12</td>\n",
       "      <td>4.847952e-13</td>\n",
       "      <td>2.546184e-09</td>\n",
       "      <td>2.732235e-14</td>\n",
       "      <td>1.680447e-13</td>\n",
       "      <td>2.0</td>\n",
       "    </tr>\n",
       "    <tr>\n",
       "      <th>29</th>\n",
       "      <td>30</td>\n",
       "      <td>Call of Duty: Modern Warfare 3</td>\n",
       "      <td>X360</td>\n",
       "      <td>2011</td>\n",
       "      <td>Shooter</td>\n",
       "      <td>Activision</td>\n",
       "      <td>4.802457e-12</td>\n",
       "      <td>6.325986e-13</td>\n",
       "      <td>5.858477e-11</td>\n",
       "      <td>4.398231e-14</td>\n",
       "      <td>1.619021e-13</td>\n",
       "      <td>2.0</td>\n",
       "    </tr>\n",
       "    <tr>\n",
       "      <th>...</th>\n",
       "      <td>...</td>\n",
       "      <td>...</td>\n",
       "      <td>...</td>\n",
       "      <td>...</td>\n",
       "      <td>...</td>\n",
       "      <td>...</td>\n",
       "      <td>...</td>\n",
       "      <td>...</td>\n",
       "      <td>...</td>\n",
       "      <td>...</td>\n",
       "      <td>...</td>\n",
       "      <td>...</td>\n",
       "    </tr>\n",
       "    <tr>\n",
       "      <th>2043</th>\n",
       "      <td>2045</td>\n",
       "      <td>God of War: Ghost of Sparta</td>\n",
       "      <td>PSP</td>\n",
       "      <td>2010</td>\n",
       "      <td>Action</td>\n",
       "      <td>Sony Computer Entertainment</td>\n",
       "      <td>2.180517e-13</td>\n",
       "      <td>5.320923e-14</td>\n",
       "      <td>1.351956e-11</td>\n",
       "      <td>6.997186e-15</td>\n",
       "      <td>1.107867e-14</td>\n",
       "      <td>2.0</td>\n",
       "    </tr>\n",
       "    <tr>\n",
       "      <th>2044</th>\n",
       "      <td>2046</td>\n",
       "      <td>Sonic Generations</td>\n",
       "      <td>3DS</td>\n",
       "      <td>2011</td>\n",
       "      <td>Platform</td>\n",
       "      <td>Sega</td>\n",
       "      <td>2.340067e-13</td>\n",
       "      <td>6.798957e-14</td>\n",
       "      <td>4.506521e-12</td>\n",
       "      <td>2.998794e-15</td>\n",
       "      <td>1.107867e-14</td>\n",
       "      <td>2.0</td>\n",
       "    </tr>\n",
       "    <tr>\n",
       "      <th>2048</th>\n",
       "      <td>2050</td>\n",
       "      <td>Guitar Hero: Warriors of Rock</td>\n",
       "      <td>Wii</td>\n",
       "      <td>2010</td>\n",
       "      <td>Misc</td>\n",
       "      <td>Activision</td>\n",
       "      <td>2.552801e-13</td>\n",
       "      <td>6.503350e-14</td>\n",
       "      <td>0.000000e+00</td>\n",
       "      <td>2.998794e-15</td>\n",
       "      <td>1.107867e-14</td>\n",
       "      <td>0.0</td>\n",
       "    </tr>\n",
       "    <tr>\n",
       "      <th>2051</th>\n",
       "      <td>2053</td>\n",
       "      <td>The LEGO Movie Videogame</td>\n",
       "      <td>PS3</td>\n",
       "      <td>2014</td>\n",
       "      <td>Action</td>\n",
       "      <td>Warner Bros. Interactive Entertainment</td>\n",
       "      <td>1.755051e-13</td>\n",
       "      <td>7.094564e-14</td>\n",
       "      <td>9.013042e-12</td>\n",
       "      <td>5.997588e-15</td>\n",
       "      <td>1.107867e-14</td>\n",
       "      <td>2.0</td>\n",
       "    </tr>\n",
       "    <tr>\n",
       "      <th>2053</th>\n",
       "      <td>2055</td>\n",
       "      <td>Rayman Legends</td>\n",
       "      <td>PS4</td>\n",
       "      <td>2014</td>\n",
       "      <td>Platform</td>\n",
       "      <td>Ubisoft</td>\n",
       "      <td>1.116850e-13</td>\n",
       "      <td>9.016009e-14</td>\n",
       "      <td>0.000000e+00</td>\n",
       "      <td>5.997588e-15</td>\n",
       "      <td>1.107867e-14</td>\n",
       "      <td>0.0</td>\n",
       "    </tr>\n",
       "  </tbody>\n",
       "</table>\n",
       "<p>562 rows × 12 columns</p>\n",
       "</div>"
      ],
      "text/plain": [
       "      Rank                            Name Platform  Year         Genre  \\\n",
       "15      16              Kinect Adventures!     X360  2010          Misc   \n",
       "16      17              Grand Theft Auto V      PS3  2013        Action   \n",
       "23      24              Grand Theft Auto V     X360  2013        Action   \n",
       "26      27     Pokemon Black/Pokemon White       DS  2010  Role-Playing   \n",
       "29      30  Call of Duty: Modern Warfare 3     X360  2011       Shooter   \n",
       "...    ...                             ...      ...   ...           ...   \n",
       "2043  2045     God of War: Ghost of Sparta      PSP  2010        Action   \n",
       "2044  2046               Sonic Generations      3DS  2011      Platform   \n",
       "2048  2050   Guitar Hero: Warriors of Rock      Wii  2010          Misc   \n",
       "2051  2053        The LEGO Movie Videogame      PS3  2014        Action   \n",
       "2053  2055                  Rayman Legends      PS4  2014      Platform   \n",
       "\n",
       "                                   Publisher      NA_Sales      EU_Sales  \\\n",
       "15                    Microsoft Game Studios  7.961548e-12  7.301489e-13   \n",
       "16                      Take-Two Interactive  3.728153e-12  1.370138e-12   \n",
       "23                      Take-Two Interactive  5.121557e-12  7.848362e-13   \n",
       "26                                  Nintendo  2.962313e-12  4.847952e-13   \n",
       "29                                Activision  4.802457e-12  6.325986e-13   \n",
       "...                                      ...           ...           ...   \n",
       "2043             Sony Computer Entertainment  2.180517e-13  5.320923e-14   \n",
       "2044                                    Sega  2.340067e-13  6.798957e-14   \n",
       "2048                              Activision  2.552801e-13  6.503350e-14   \n",
       "2051  Warner Bros. Interactive Entertainment  1.755051e-13  7.094564e-14   \n",
       "2053                                 Ubisoft  1.116850e-13  9.016009e-14   \n",
       "\n",
       "          JP_Sales   Other_Sales  Global_Sales  label  \n",
       "15    1.081565e-10  5.564429e-14  2.393431e-13    2.0  \n",
       "16    4.371325e-10  1.379445e-13  2.347361e-13    2.0  \n",
       "23    2.703913e-11  4.598151e-14  1.796718e-13    2.0  \n",
       "26    2.546184e-09  2.732235e-14  1.680447e-13    2.0  \n",
       "29    5.858477e-11  4.398231e-14  1.619021e-13    2.0  \n",
       "...            ...           ...           ...    ...  \n",
       "2043  1.351956e-11  6.997186e-15  1.107867e-14    2.0  \n",
       "2044  4.506521e-12  2.998794e-15  1.107867e-14    2.0  \n",
       "2048  0.000000e+00  2.998794e-15  1.107867e-14    0.0  \n",
       "2051  9.013042e-12  5.997588e-15  1.107867e-14    2.0  \n",
       "2053  0.000000e+00  5.997588e-15  1.107867e-14    0.0  \n",
       "\n",
       "[562 rows x 12 columns]"
      ]
     },
     "execution_count": 88,
     "metadata": {},
     "output_type": "execute_result"
    }
   ],
   "source": [
    "sales_after_2010"
   ]
  },
  {
   "cell_type": "code",
   "execution_count": 89,
   "id": "048bc81f",
   "metadata": {},
   "outputs": [
    {
     "data": {
      "text/plain": [
       "array(['X360', 'PS3', 'DS', '3DS', 'PS4', 'Wii', 'XOne', 'WiiU', 'PC',\n",
       "       'PSP', 'PSV'], dtype=object)"
      ]
     },
     "execution_count": 89,
     "metadata": {},
     "output_type": "execute_result"
    }
   ],
   "source": [
    "sales_after_2010.Platform.unique()"
   ]
  },
  {
   "cell_type": "code",
   "execution_count": 90,
   "id": "11af4a5f",
   "metadata": {},
   "outputs": [
    {
     "name": "stderr",
     "output_type": "stream",
     "text": [
      "/var/folders/cy/p78z_yd10wb7gttsfxj36gmr0000gn/T/ipykernel_2142/3007792869.py:2: SettingWithCopyWarning: \n",
      "A value is trying to be set on a copy of a slice from a DataFrame.\n",
      "Try using .loc[row_indexer,col_indexer] = value instead\n",
      "\n",
      "See the caveats in the documentation: https://pandas.pydata.org/pandas-docs/stable/user_guide/indexing.html#returning-a-view-versus-a-copy\n",
      "  sales_after_2010['label'] = sales_after_2010[['NA_Sales', 'EU_Sales', 'JP_Sales']].max(axis=1)\n"
     ]
    }
   ],
   "source": [
    "#find the \n",
    "sales_after_2010['label'] = sales_after_2010[['NA_Sales', 'EU_Sales', 'JP_Sales']].max(axis=1)"
   ]
  },
  {
   "cell_type": "code",
   "execution_count": 91,
   "id": "16cbac37",
   "metadata": {},
   "outputs": [],
   "source": [
    "#create label for each game's per capita top-sale market\n",
    "for i in range(len(sales_after_2010)):\n",
    "    if sales_after_2010.iloc[i, sales_after_2010.columns.get_loc('label')] ==sales_after_2010.iloc[i, sales_after_2010.columns.get_loc('NA_Sales')]:\n",
    "        sales_after_2010.iloc[i, sales_after_2010.columns.get_loc('label')] = 0\n",
    "    elif sales_after_2010.iloc[i, sales_after_2010.columns.get_loc('label')] ==sales_after_2010.iloc[i, sales_after_2010.columns.get_loc('EU_Sales')]:\n",
    "        sales_after_2010.iloc[i, sales_after_2010.columns.get_loc('label')] = 1\n",
    "    elif sales_after_2010.iloc[i, sales_after_2010.columns.get_loc('label')] ==sales_after_2010.iloc[i, sales_after_2010.columns.get_loc('JP_Sales')]:\n",
    "        sales_after_2010.iloc[i, sales_after_2010.columns.get_loc('label')] = 2"
   ]
  },
  {
   "cell_type": "code",
   "execution_count": 103,
   "id": "d354d974",
   "metadata": {},
   "outputs": [
    {
     "data": {
      "text/plain": [
       "array([2010, 2013, 2011, 2015, 2012, 2014, 2016], dtype=int32)"
      ]
     },
     "execution_count": 103,
     "metadata": {},
     "output_type": "execute_result"
    }
   ],
   "source": [
    "sales_after_2010.Year.unique()"
   ]
  },
  {
   "cell_type": "code",
   "execution_count": 93,
   "id": "83b81c25",
   "metadata": {},
   "outputs": [],
   "source": [
    "from pandas import get_dummies\n",
    "from sklearn.model_selection import train_test_split\n",
    "from sklearn.ensemble import RandomForestClassifier\n",
    "from sklearn.datasets import make_classification"
   ]
  },
  {
   "cell_type": "code",
   "execution_count": 94,
   "id": "b16c6d01",
   "metadata": {},
   "outputs": [
    {
     "name": "stdout",
     "output_type": "stream",
     "text": [
      "172\n",
      "7\n",
      "383\n"
     ]
    }
   ],
   "source": [
    "sales_2010 = sales_after_2010.drop(['Name','NA_Sales', 'EU_Sales', 'JP_Sales', 'Global_Sales', 'Other_Sales', 'Rank'], axis = 1)\n",
    "#add the game property we want to predict before get_dummies\n",
    "sales_2010.loc[len(df)] = ['X360', 2016, 'Action', 'Nintendo', 1]\n",
    "sales_2010 = get_dummies(sales_2010)\n",
    "X_pred = sales_2010.iloc[-1, :].drop('label')\n",
    "sales_2010 = sales_2010.iloc[:-1, :]\n",
    "#find the number of label for each market\n",
    "print(np.count_nonzero(sales_2010.label == 0))\n",
    "print(np.count_nonzero(sales_2010.label == 1))\n",
    "print(np.count_nonzero(sales_2010.label == 2))"
   ]
  },
  {
   "cell_type": "code",
   "execution_count": 95,
   "id": "87a0e718",
   "metadata": {},
   "outputs": [
    {
     "data": {
      "text/html": [
       "<div>\n",
       "<style scoped>\n",
       "    .dataframe tbody tr th:only-of-type {\n",
       "        vertical-align: middle;\n",
       "    }\n",
       "\n",
       "    .dataframe tbody tr th {\n",
       "        vertical-align: top;\n",
       "    }\n",
       "\n",
       "    .dataframe thead th {\n",
       "        text-align: right;\n",
       "    }\n",
       "</style>\n",
       "<table border=\"1\" class=\"dataframe\">\n",
       "  <thead>\n",
       "    <tr style=\"text-align: right;\">\n",
       "      <th></th>\n",
       "      <th>Year</th>\n",
       "      <th>label</th>\n",
       "      <th>Platform_3DS</th>\n",
       "      <th>Platform_DS</th>\n",
       "      <th>Platform_PC</th>\n",
       "      <th>Platform_PS3</th>\n",
       "      <th>Platform_PS4</th>\n",
       "      <th>Platform_PSP</th>\n",
       "      <th>Platform_PSV</th>\n",
       "      <th>Platform_Wii</th>\n",
       "      <th>...</th>\n",
       "      <th>Publisher_Slightly Mad Studios</th>\n",
       "      <th>Publisher_Sony Computer Entertainment</th>\n",
       "      <th>Publisher_Sony Computer Entertainment Europe</th>\n",
       "      <th>Publisher_Square Enix</th>\n",
       "      <th>Publisher_THQ</th>\n",
       "      <th>Publisher_Take-Two Interactive</th>\n",
       "      <th>Publisher_Ubisoft</th>\n",
       "      <th>Publisher_Valve</th>\n",
       "      <th>Publisher_Valve Software</th>\n",
       "      <th>Publisher_Warner Bros. Interactive Entertainment</th>\n",
       "    </tr>\n",
       "  </thead>\n",
       "  <tbody>\n",
       "    <tr>\n",
       "      <th>15</th>\n",
       "      <td>2010</td>\n",
       "      <td>2.0</td>\n",
       "      <td>False</td>\n",
       "      <td>False</td>\n",
       "      <td>False</td>\n",
       "      <td>False</td>\n",
       "      <td>False</td>\n",
       "      <td>False</td>\n",
       "      <td>False</td>\n",
       "      <td>False</td>\n",
       "      <td>...</td>\n",
       "      <td>False</td>\n",
       "      <td>False</td>\n",
       "      <td>False</td>\n",
       "      <td>False</td>\n",
       "      <td>False</td>\n",
       "      <td>False</td>\n",
       "      <td>False</td>\n",
       "      <td>False</td>\n",
       "      <td>False</td>\n",
       "      <td>False</td>\n",
       "    </tr>\n",
       "    <tr>\n",
       "      <th>16</th>\n",
       "      <td>2013</td>\n",
       "      <td>2.0</td>\n",
       "      <td>False</td>\n",
       "      <td>False</td>\n",
       "      <td>False</td>\n",
       "      <td>True</td>\n",
       "      <td>False</td>\n",
       "      <td>False</td>\n",
       "      <td>False</td>\n",
       "      <td>False</td>\n",
       "      <td>...</td>\n",
       "      <td>False</td>\n",
       "      <td>False</td>\n",
       "      <td>False</td>\n",
       "      <td>False</td>\n",
       "      <td>False</td>\n",
       "      <td>True</td>\n",
       "      <td>False</td>\n",
       "      <td>False</td>\n",
       "      <td>False</td>\n",
       "      <td>False</td>\n",
       "    </tr>\n",
       "    <tr>\n",
       "      <th>23</th>\n",
       "      <td>2013</td>\n",
       "      <td>2.0</td>\n",
       "      <td>False</td>\n",
       "      <td>False</td>\n",
       "      <td>False</td>\n",
       "      <td>False</td>\n",
       "      <td>False</td>\n",
       "      <td>False</td>\n",
       "      <td>False</td>\n",
       "      <td>False</td>\n",
       "      <td>...</td>\n",
       "      <td>False</td>\n",
       "      <td>False</td>\n",
       "      <td>False</td>\n",
       "      <td>False</td>\n",
       "      <td>False</td>\n",
       "      <td>True</td>\n",
       "      <td>False</td>\n",
       "      <td>False</td>\n",
       "      <td>False</td>\n",
       "      <td>False</td>\n",
       "    </tr>\n",
       "    <tr>\n",
       "      <th>26</th>\n",
       "      <td>2010</td>\n",
       "      <td>2.0</td>\n",
       "      <td>False</td>\n",
       "      <td>True</td>\n",
       "      <td>False</td>\n",
       "      <td>False</td>\n",
       "      <td>False</td>\n",
       "      <td>False</td>\n",
       "      <td>False</td>\n",
       "      <td>False</td>\n",
       "      <td>...</td>\n",
       "      <td>False</td>\n",
       "      <td>False</td>\n",
       "      <td>False</td>\n",
       "      <td>False</td>\n",
       "      <td>False</td>\n",
       "      <td>False</td>\n",
       "      <td>False</td>\n",
       "      <td>False</td>\n",
       "      <td>False</td>\n",
       "      <td>False</td>\n",
       "    </tr>\n",
       "    <tr>\n",
       "      <th>29</th>\n",
       "      <td>2011</td>\n",
       "      <td>2.0</td>\n",
       "      <td>False</td>\n",
       "      <td>False</td>\n",
       "      <td>False</td>\n",
       "      <td>False</td>\n",
       "      <td>False</td>\n",
       "      <td>False</td>\n",
       "      <td>False</td>\n",
       "      <td>False</td>\n",
       "      <td>...</td>\n",
       "      <td>False</td>\n",
       "      <td>False</td>\n",
       "      <td>False</td>\n",
       "      <td>False</td>\n",
       "      <td>False</td>\n",
       "      <td>False</td>\n",
       "      <td>False</td>\n",
       "      <td>False</td>\n",
       "      <td>False</td>\n",
       "      <td>False</td>\n",
       "    </tr>\n",
       "    <tr>\n",
       "      <th>...</th>\n",
       "      <td>...</td>\n",
       "      <td>...</td>\n",
       "      <td>...</td>\n",
       "      <td>...</td>\n",
       "      <td>...</td>\n",
       "      <td>...</td>\n",
       "      <td>...</td>\n",
       "      <td>...</td>\n",
       "      <td>...</td>\n",
       "      <td>...</td>\n",
       "      <td>...</td>\n",
       "      <td>...</td>\n",
       "      <td>...</td>\n",
       "      <td>...</td>\n",
       "      <td>...</td>\n",
       "      <td>...</td>\n",
       "      <td>...</td>\n",
       "      <td>...</td>\n",
       "      <td>...</td>\n",
       "      <td>...</td>\n",
       "      <td>...</td>\n",
       "    </tr>\n",
       "    <tr>\n",
       "      <th>2043</th>\n",
       "      <td>2010</td>\n",
       "      <td>2.0</td>\n",
       "      <td>False</td>\n",
       "      <td>False</td>\n",
       "      <td>False</td>\n",
       "      <td>False</td>\n",
       "      <td>False</td>\n",
       "      <td>True</td>\n",
       "      <td>False</td>\n",
       "      <td>False</td>\n",
       "      <td>...</td>\n",
       "      <td>False</td>\n",
       "      <td>True</td>\n",
       "      <td>False</td>\n",
       "      <td>False</td>\n",
       "      <td>False</td>\n",
       "      <td>False</td>\n",
       "      <td>False</td>\n",
       "      <td>False</td>\n",
       "      <td>False</td>\n",
       "      <td>False</td>\n",
       "    </tr>\n",
       "    <tr>\n",
       "      <th>2044</th>\n",
       "      <td>2011</td>\n",
       "      <td>2.0</td>\n",
       "      <td>True</td>\n",
       "      <td>False</td>\n",
       "      <td>False</td>\n",
       "      <td>False</td>\n",
       "      <td>False</td>\n",
       "      <td>False</td>\n",
       "      <td>False</td>\n",
       "      <td>False</td>\n",
       "      <td>...</td>\n",
       "      <td>False</td>\n",
       "      <td>False</td>\n",
       "      <td>False</td>\n",
       "      <td>False</td>\n",
       "      <td>False</td>\n",
       "      <td>False</td>\n",
       "      <td>False</td>\n",
       "      <td>False</td>\n",
       "      <td>False</td>\n",
       "      <td>False</td>\n",
       "    </tr>\n",
       "    <tr>\n",
       "      <th>2048</th>\n",
       "      <td>2010</td>\n",
       "      <td>0.0</td>\n",
       "      <td>False</td>\n",
       "      <td>False</td>\n",
       "      <td>False</td>\n",
       "      <td>False</td>\n",
       "      <td>False</td>\n",
       "      <td>False</td>\n",
       "      <td>False</td>\n",
       "      <td>True</td>\n",
       "      <td>...</td>\n",
       "      <td>False</td>\n",
       "      <td>False</td>\n",
       "      <td>False</td>\n",
       "      <td>False</td>\n",
       "      <td>False</td>\n",
       "      <td>False</td>\n",
       "      <td>False</td>\n",
       "      <td>False</td>\n",
       "      <td>False</td>\n",
       "      <td>False</td>\n",
       "    </tr>\n",
       "    <tr>\n",
       "      <th>2051</th>\n",
       "      <td>2014</td>\n",
       "      <td>2.0</td>\n",
       "      <td>False</td>\n",
       "      <td>False</td>\n",
       "      <td>False</td>\n",
       "      <td>True</td>\n",
       "      <td>False</td>\n",
       "      <td>False</td>\n",
       "      <td>False</td>\n",
       "      <td>False</td>\n",
       "      <td>...</td>\n",
       "      <td>False</td>\n",
       "      <td>False</td>\n",
       "      <td>False</td>\n",
       "      <td>False</td>\n",
       "      <td>False</td>\n",
       "      <td>False</td>\n",
       "      <td>False</td>\n",
       "      <td>False</td>\n",
       "      <td>False</td>\n",
       "      <td>True</td>\n",
       "    </tr>\n",
       "    <tr>\n",
       "      <th>2053</th>\n",
       "      <td>2014</td>\n",
       "      <td>0.0</td>\n",
       "      <td>False</td>\n",
       "      <td>False</td>\n",
       "      <td>False</td>\n",
       "      <td>False</td>\n",
       "      <td>True</td>\n",
       "      <td>False</td>\n",
       "      <td>False</td>\n",
       "      <td>False</td>\n",
       "      <td>...</td>\n",
       "      <td>False</td>\n",
       "      <td>False</td>\n",
       "      <td>False</td>\n",
       "      <td>False</td>\n",
       "      <td>False</td>\n",
       "      <td>False</td>\n",
       "      <td>True</td>\n",
       "      <td>False</td>\n",
       "      <td>False</td>\n",
       "      <td>False</td>\n",
       "    </tr>\n",
       "  </tbody>\n",
       "</table>\n",
       "<p>562 rows × 59 columns</p>\n",
       "</div>"
      ],
      "text/plain": [
       "      Year  label  Platform_3DS  Platform_DS  Platform_PC  Platform_PS3  \\\n",
       "15    2010    2.0         False        False        False         False   \n",
       "16    2013    2.0         False        False        False          True   \n",
       "23    2013    2.0         False        False        False         False   \n",
       "26    2010    2.0         False         True        False         False   \n",
       "29    2011    2.0         False        False        False         False   \n",
       "...    ...    ...           ...          ...          ...           ...   \n",
       "2043  2010    2.0         False        False        False         False   \n",
       "2044  2011    2.0          True        False        False         False   \n",
       "2048  2010    0.0         False        False        False         False   \n",
       "2051  2014    2.0         False        False        False          True   \n",
       "2053  2014    0.0         False        False        False         False   \n",
       "\n",
       "      Platform_PS4  Platform_PSP  Platform_PSV  Platform_Wii  ...  \\\n",
       "15           False         False         False         False  ...   \n",
       "16           False         False         False         False  ...   \n",
       "23           False         False         False         False  ...   \n",
       "26           False         False         False         False  ...   \n",
       "29           False         False         False         False  ...   \n",
       "...            ...           ...           ...           ...  ...   \n",
       "2043         False          True         False         False  ...   \n",
       "2044         False         False         False         False  ...   \n",
       "2048         False         False         False          True  ...   \n",
       "2051         False         False         False         False  ...   \n",
       "2053          True         False         False         False  ...   \n",
       "\n",
       "      Publisher_Slightly Mad Studios  Publisher_Sony Computer Entertainment  \\\n",
       "15                             False                                  False   \n",
       "16                             False                                  False   \n",
       "23                             False                                  False   \n",
       "26                             False                                  False   \n",
       "29                             False                                  False   \n",
       "...                              ...                                    ...   \n",
       "2043                           False                                   True   \n",
       "2044                           False                                  False   \n",
       "2048                           False                                  False   \n",
       "2051                           False                                  False   \n",
       "2053                           False                                  False   \n",
       "\n",
       "      Publisher_Sony Computer Entertainment Europe  Publisher_Square Enix  \\\n",
       "15                                           False                  False   \n",
       "16                                           False                  False   \n",
       "23                                           False                  False   \n",
       "26                                           False                  False   \n",
       "29                                           False                  False   \n",
       "...                                            ...                    ...   \n",
       "2043                                         False                  False   \n",
       "2044                                         False                  False   \n",
       "2048                                         False                  False   \n",
       "2051                                         False                  False   \n",
       "2053                                         False                  False   \n",
       "\n",
       "      Publisher_THQ  Publisher_Take-Two Interactive  Publisher_Ubisoft  \\\n",
       "15            False                           False              False   \n",
       "16            False                            True              False   \n",
       "23            False                            True              False   \n",
       "26            False                           False              False   \n",
       "29            False                           False              False   \n",
       "...             ...                             ...                ...   \n",
       "2043          False                           False              False   \n",
       "2044          False                           False              False   \n",
       "2048          False                           False              False   \n",
       "2051          False                           False              False   \n",
       "2053          False                           False               True   \n",
       "\n",
       "      Publisher_Valve  Publisher_Valve Software  \\\n",
       "15              False                     False   \n",
       "16              False                     False   \n",
       "23              False                     False   \n",
       "26              False                     False   \n",
       "29              False                     False   \n",
       "...               ...                       ...   \n",
       "2043            False                     False   \n",
       "2044            False                     False   \n",
       "2048            False                     False   \n",
       "2051            False                     False   \n",
       "2053            False                     False   \n",
       "\n",
       "      Publisher_Warner Bros. Interactive Entertainment  \n",
       "15                                               False  \n",
       "16                                               False  \n",
       "23                                               False  \n",
       "26                                               False  \n",
       "29                                               False  \n",
       "...                                                ...  \n",
       "2043                                             False  \n",
       "2044                                             False  \n",
       "2048                                             False  \n",
       "2051                                              True  \n",
       "2053                                             False  \n",
       "\n",
       "[562 rows x 59 columns]"
      ]
     },
     "execution_count": 95,
     "metadata": {},
     "output_type": "execute_result"
    }
   ],
   "source": [
    "sales_2010"
   ]
  },
  {
   "cell_type": "code",
   "execution_count": 96,
   "id": "e244f16a",
   "metadata": {},
   "outputs": [],
   "source": [
    "#Define the input(X) and output(y) of the model \n",
    "y = sales_2010['label'].values\n",
    "X = sales_2010.drop(['label'], axis = 1).values\n",
    "#Use built-in train_test_split in sklearn to split the data, 70% train, 30% test\n",
    "Xtrain, Xtest, ytrain, ytest = train_test_split(X, y, test_size = 0.70, random_state = 20)"
   ]
  },
  {
   "cell_type": "code",
   "execution_count": 74,
   "id": "44bea138",
   "metadata": {},
   "outputs": [
    {
     "name": "stdout",
     "output_type": "stream",
     "text": [
      "Validation accuracy:  0.8197969543147208\n"
     ]
    }
   ],
   "source": [
    "#Build a random forest classifier using Sklearn, fit the model, and predict label\n",
    "RDF_1 = RandomForestClassifier(random_state = 3).fit(Xtrain, ytrain)\n",
    "y_val = RDF_1.predict_proba(Xtest)\n",
    "print(\"Validation accuracy: \", sum(pd.DataFrame(y_val).idxmax(axis=1).values == ytest ) / len(ytest) )"
   ]
  },
  {
   "cell_type": "code",
   "execution_count": 58,
   "id": "d2c83f01",
   "metadata": {},
   "outputs": [],
   "source": [
    "from sklearn.decomposition import PCA"
   ]
  },
  {
   "cell_type": "code",
   "execution_count": 59,
   "id": "22a382df",
   "metadata": {},
   "outputs": [],
   "source": [
    "#Using PCA combine with random forest to classify\n",
    "pca_X = PCA(n_components=34).fit_transform(X)\n",
    "Xtrain_pca, Xtest_pca, ytrain, ytest = train_test_split(pca_X, y, test_size = 0.70, random_state = 3)"
   ]
  },
  {
   "cell_type": "code",
   "execution_count": 60,
   "id": "d50db020",
   "metadata": {},
   "outputs": [
    {
     "name": "stdout",
     "output_type": "stream",
     "text": [
      "Validation accuracy:  0.799492385786802\n"
     ]
    }
   ],
   "source": [
    "#using the transformed PCA data for prediction\n",
    "RDF_2 = RandomForestClassifier(random_state = 3).fit(Xtrain_pca, ytrain)\n",
    "y_val_pca = RDF_2.predict_proba(Xtest_pca)\n",
    "print(\"Validation accuracy: \", sum(pd.DataFrame(y_val_pca).idxmax(axis=1).values == ytest ) / len(ytest) )"
   ]
  },
  {
   "cell_type": "code",
   "execution_count": 39,
   "id": "349330d4",
   "metadata": {},
   "outputs": [
    {
     "data": {
      "text/plain": [
       "(58,)"
      ]
     },
     "execution_count": 39,
     "metadata": {},
     "output_type": "execute_result"
    }
   ],
   "source": [
    "Xtrain[-1].shape"
   ]
  },
  {
   "cell_type": "code",
   "execution_count": 97,
   "id": "c4c78c74",
   "metadata": {},
   "outputs": [],
   "source": [
    "#Make the prediction for video game with 'X360', 2016, 'Action', 'Nintendo' properties \n",
    "X_pred = np.array(X_pred)"
   ]
  },
  {
   "cell_type": "code",
   "execution_count": 98,
   "id": "1086bd84",
   "metadata": {},
   "outputs": [],
   "source": [
    "X_pred = X_pred.reshape(1, 58)"
   ]
  },
  {
   "cell_type": "code",
   "execution_count": 99,
   "id": "c1bd5185",
   "metadata": {},
   "outputs": [],
   "source": [
    "y_pred = RDF_1.predict_proba(X_pred)"
   ]
  },
  {
   "cell_type": "code",
   "execution_count": 100,
   "id": "07a37d18",
   "metadata": {},
   "outputs": [
    {
     "data": {
      "text/plain": [
       "array([[0.31, 0.  , 0.69]])"
      ]
     },
     "execution_count": 100,
     "metadata": {},
     "output_type": "execute_result"
    }
   ],
   "source": [
    "y_pred"
   ]
  },
  {
   "cell_type": "code",
   "execution_count": null,
   "id": "78314f85",
   "metadata": {},
   "outputs": [],
   "source": []
  }
 ],
 "metadata": {
  "kernelspec": {
   "display_name": "Python 3 (ipykernel)",
   "language": "python",
   "name": "python3"
  },
  "language_info": {
   "codemirror_mode": {
    "name": "ipython",
    "version": 3
   },
   "file_extension": ".py",
   "mimetype": "text/x-python",
   "name": "python",
   "nbconvert_exporter": "python",
   "pygments_lexer": "ipython3",
   "version": "3.11.5"
  }
 },
 "nbformat": 4,
 "nbformat_minor": 5
}
