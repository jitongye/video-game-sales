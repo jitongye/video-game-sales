{
 "cells": [
  {
   "cell_type": "code",
   "execution_count": 192,
   "id": "436bf69b",
   "metadata": {},
   "outputs": [],
   "source": [
    "import pandas as pd\n",
    "import numpy as np\n",
    "import seaborn as sns\n",
    "sns.set()\n",
    "from pandas import DataFrame, Series\n",
    "import matplotlib.pyplot as plt\n",
    "import matplotlib.mlab as mlab \n",
    "%matplotlib notebook"
   ]
  },
  {
   "cell_type": "code",
   "execution_count": 193,
   "id": "8c5120a5",
   "metadata": {},
   "outputs": [],
   "source": [
    "df = pd.read_csv('vgsales.csv')"
   ]
  },
  {
   "cell_type": "code",
   "execution_count": 194,
   "id": "72ee2b39",
   "metadata": {},
   "outputs": [
    {
     "data": {
      "text/html": [
       "<div>\n",
       "<style scoped>\n",
       "    .dataframe tbody tr th:only-of-type {\n",
       "        vertical-align: middle;\n",
       "    }\n",
       "\n",
       "    .dataframe tbody tr th {\n",
       "        vertical-align: top;\n",
       "    }\n",
       "\n",
       "    .dataframe thead th {\n",
       "        text-align: right;\n",
       "    }\n",
       "</style>\n",
       "<table border=\"1\" class=\"dataframe\">\n",
       "  <thead>\n",
       "    <tr style=\"text-align: right;\">\n",
       "      <th></th>\n",
       "      <th>Rank</th>\n",
       "      <th>Name</th>\n",
       "      <th>Platform</th>\n",
       "      <th>Year</th>\n",
       "      <th>Genre</th>\n",
       "      <th>Publisher</th>\n",
       "      <th>NA_Sales</th>\n",
       "      <th>EU_Sales</th>\n",
       "      <th>JP_Sales</th>\n",
       "      <th>Other_Sales</th>\n",
       "      <th>Global_Sales</th>\n",
       "    </tr>\n",
       "  </thead>\n",
       "  <tbody>\n",
       "    <tr>\n",
       "      <th>0</th>\n",
       "      <td>1</td>\n",
       "      <td>Wii Sports</td>\n",
       "      <td>Wii</td>\n",
       "      <td>2006.0</td>\n",
       "      <td>Sports</td>\n",
       "      <td>Nintendo</td>\n",
       "      <td>41.49</td>\n",
       "      <td>29.02</td>\n",
       "      <td>3.77</td>\n",
       "      <td>8.46</td>\n",
       "      <td>82.74</td>\n",
       "    </tr>\n",
       "    <tr>\n",
       "      <th>1</th>\n",
       "      <td>2</td>\n",
       "      <td>Super Mario Bros.</td>\n",
       "      <td>NES</td>\n",
       "      <td>1985.0</td>\n",
       "      <td>Platform</td>\n",
       "      <td>Nintendo</td>\n",
       "      <td>29.08</td>\n",
       "      <td>3.58</td>\n",
       "      <td>6.81</td>\n",
       "      <td>0.77</td>\n",
       "      <td>40.24</td>\n",
       "    </tr>\n",
       "    <tr>\n",
       "      <th>2</th>\n",
       "      <td>3</td>\n",
       "      <td>Mario Kart Wii</td>\n",
       "      <td>Wii</td>\n",
       "      <td>2008.0</td>\n",
       "      <td>Racing</td>\n",
       "      <td>Nintendo</td>\n",
       "      <td>15.85</td>\n",
       "      <td>12.88</td>\n",
       "      <td>3.79</td>\n",
       "      <td>3.31</td>\n",
       "      <td>35.82</td>\n",
       "    </tr>\n",
       "    <tr>\n",
       "      <th>3</th>\n",
       "      <td>4</td>\n",
       "      <td>Wii Sports Resort</td>\n",
       "      <td>Wii</td>\n",
       "      <td>2009.0</td>\n",
       "      <td>Sports</td>\n",
       "      <td>Nintendo</td>\n",
       "      <td>15.75</td>\n",
       "      <td>11.01</td>\n",
       "      <td>3.28</td>\n",
       "      <td>2.96</td>\n",
       "      <td>33.00</td>\n",
       "    </tr>\n",
       "    <tr>\n",
       "      <th>4</th>\n",
       "      <td>5</td>\n",
       "      <td>Pokemon Red/Pokemon Blue</td>\n",
       "      <td>GB</td>\n",
       "      <td>1996.0</td>\n",
       "      <td>Role-Playing</td>\n",
       "      <td>Nintendo</td>\n",
       "      <td>11.27</td>\n",
       "      <td>8.89</td>\n",
       "      <td>10.22</td>\n",
       "      <td>1.00</td>\n",
       "      <td>31.37</td>\n",
       "    </tr>\n",
       "    <tr>\n",
       "      <th>5</th>\n",
       "      <td>6</td>\n",
       "      <td>Tetris</td>\n",
       "      <td>GB</td>\n",
       "      <td>1989.0</td>\n",
       "      <td>Puzzle</td>\n",
       "      <td>Nintendo</td>\n",
       "      <td>23.20</td>\n",
       "      <td>2.26</td>\n",
       "      <td>4.22</td>\n",
       "      <td>0.58</td>\n",
       "      <td>30.26</td>\n",
       "    </tr>\n",
       "    <tr>\n",
       "      <th>6</th>\n",
       "      <td>7</td>\n",
       "      <td>New Super Mario Bros.</td>\n",
       "      <td>DS</td>\n",
       "      <td>2006.0</td>\n",
       "      <td>Platform</td>\n",
       "      <td>Nintendo</td>\n",
       "      <td>11.38</td>\n",
       "      <td>9.23</td>\n",
       "      <td>6.50</td>\n",
       "      <td>2.90</td>\n",
       "      <td>30.01</td>\n",
       "    </tr>\n",
       "    <tr>\n",
       "      <th>7</th>\n",
       "      <td>8</td>\n",
       "      <td>Wii Play</td>\n",
       "      <td>Wii</td>\n",
       "      <td>2006.0</td>\n",
       "      <td>Misc</td>\n",
       "      <td>Nintendo</td>\n",
       "      <td>14.03</td>\n",
       "      <td>9.20</td>\n",
       "      <td>2.93</td>\n",
       "      <td>2.85</td>\n",
       "      <td>29.02</td>\n",
       "    </tr>\n",
       "    <tr>\n",
       "      <th>8</th>\n",
       "      <td>9</td>\n",
       "      <td>New Super Mario Bros. Wii</td>\n",
       "      <td>Wii</td>\n",
       "      <td>2009.0</td>\n",
       "      <td>Platform</td>\n",
       "      <td>Nintendo</td>\n",
       "      <td>14.59</td>\n",
       "      <td>7.06</td>\n",
       "      <td>4.70</td>\n",
       "      <td>2.26</td>\n",
       "      <td>28.62</td>\n",
       "    </tr>\n",
       "    <tr>\n",
       "      <th>9</th>\n",
       "      <td>10</td>\n",
       "      <td>Duck Hunt</td>\n",
       "      <td>NES</td>\n",
       "      <td>1984.0</td>\n",
       "      <td>Shooter</td>\n",
       "      <td>Nintendo</td>\n",
       "      <td>26.93</td>\n",
       "      <td>0.63</td>\n",
       "      <td>0.28</td>\n",
       "      <td>0.47</td>\n",
       "      <td>28.31</td>\n",
       "    </tr>\n",
       "  </tbody>\n",
       "</table>\n",
       "</div>"
      ],
      "text/plain": [
       "   Rank                       Name Platform    Year         Genre Publisher  \\\n",
       "0     1                 Wii Sports      Wii  2006.0        Sports  Nintendo   \n",
       "1     2          Super Mario Bros.      NES  1985.0      Platform  Nintendo   \n",
       "2     3             Mario Kart Wii      Wii  2008.0        Racing  Nintendo   \n",
       "3     4          Wii Sports Resort      Wii  2009.0        Sports  Nintendo   \n",
       "4     5   Pokemon Red/Pokemon Blue       GB  1996.0  Role-Playing  Nintendo   \n",
       "5     6                     Tetris       GB  1989.0        Puzzle  Nintendo   \n",
       "6     7      New Super Mario Bros.       DS  2006.0      Platform  Nintendo   \n",
       "7     8                   Wii Play      Wii  2006.0          Misc  Nintendo   \n",
       "8     9  New Super Mario Bros. Wii      Wii  2009.0      Platform  Nintendo   \n",
       "9    10                  Duck Hunt      NES  1984.0       Shooter  Nintendo   \n",
       "\n",
       "   NA_Sales  EU_Sales  JP_Sales  Other_Sales  Global_Sales  \n",
       "0     41.49     29.02      3.77         8.46         82.74  \n",
       "1     29.08      3.58      6.81         0.77         40.24  \n",
       "2     15.85     12.88      3.79         3.31         35.82  \n",
       "3     15.75     11.01      3.28         2.96         33.00  \n",
       "4     11.27      8.89     10.22         1.00         31.37  \n",
       "5     23.20      2.26      4.22         0.58         30.26  \n",
       "6     11.38      9.23      6.50         2.90         30.01  \n",
       "7     14.03      9.20      2.93         2.85         29.02  \n",
       "8     14.59      7.06      4.70         2.26         28.62  \n",
       "9     26.93      0.63      0.28         0.47         28.31  "
      ]
     },
     "execution_count": 194,
     "metadata": {},
     "output_type": "execute_result"
    }
   ],
   "source": [
    "df.head(10)"
   ]
  },
  {
   "cell_type": "code",
   "execution_count": 195,
   "id": "3537219e",
   "metadata": {},
   "outputs": [
    {
     "data": {
      "text/plain": [
       "(16598, 11)"
      ]
     },
     "execution_count": 195,
     "metadata": {},
     "output_type": "execute_result"
    }
   ],
   "source": [
    "df.shape"
   ]
  },
  {
   "cell_type": "code",
   "execution_count": 196,
   "id": "fb7f9992",
   "metadata": {},
   "outputs": [
    {
     "data": {
      "text/plain": [
       "Index(['Rank', 'Name', 'Platform', 'Year', 'Genre', 'Publisher', 'NA_Sales',\n",
       "       'EU_Sales', 'JP_Sales', 'Other_Sales', 'Global_Sales'],\n",
       "      dtype='object')"
      ]
     },
     "execution_count": 196,
     "metadata": {},
     "output_type": "execute_result"
    }
   ],
   "source": [
    "df.columns"
   ]
  },
  {
   "cell_type": "code",
   "execution_count": 197,
   "id": "c681c14b",
   "metadata": {},
   "outputs": [
    {
     "data": {
      "text/plain": [
       "0"
      ]
     },
     "execution_count": 197,
     "metadata": {},
     "output_type": "execute_result"
    }
   ],
   "source": [
    "df.duplicated().sum()"
   ]
  },
  {
   "cell_type": "code",
   "execution_count": 198,
   "id": "cf5b0cef",
   "metadata": {},
   "outputs": [
    {
     "data": {
      "text/plain": [
       "Rank              0\n",
       "Name              0\n",
       "Platform          0\n",
       "Year            271\n",
       "Genre             0\n",
       "Publisher        58\n",
       "NA_Sales          0\n",
       "EU_Sales          0\n",
       "JP_Sales          0\n",
       "Other_Sales       0\n",
       "Global_Sales      0\n",
       "dtype: int64"
      ]
     },
     "execution_count": 198,
     "metadata": {},
     "output_type": "execute_result"
    }
   ],
   "source": [
    "df.isnull().sum()"
   ]
  },
  {
   "cell_type": "code",
   "execution_count": 199,
   "id": "db32a3c3",
   "metadata": {},
   "outputs": [
    {
     "name": "stdout",
     "output_type": "stream",
     "text": [
      "<class 'pandas.core.frame.DataFrame'>\n",
      "RangeIndex: 16598 entries, 0 to 16597\n",
      "Data columns (total 11 columns):\n",
      " #   Column        Non-Null Count  Dtype  \n",
      "---  ------        --------------  -----  \n",
      " 0   Rank          16598 non-null  int64  \n",
      " 1   Name          16598 non-null  object \n",
      " 2   Platform      16598 non-null  object \n",
      " 3   Year          16327 non-null  float64\n",
      " 4   Genre         16598 non-null  object \n",
      " 5   Publisher     16540 non-null  object \n",
      " 6   NA_Sales      16598 non-null  float64\n",
      " 7   EU_Sales      16598 non-null  float64\n",
      " 8   JP_Sales      16598 non-null  float64\n",
      " 9   Other_Sales   16598 non-null  float64\n",
      " 10  Global_Sales  16598 non-null  float64\n",
      "dtypes: float64(6), int64(1), object(4)\n",
      "memory usage: 1.4+ MB\n"
     ]
    }
   ],
   "source": [
    "df.info()"
   ]
  },
  {
   "cell_type": "code",
   "execution_count": 200,
   "id": "019df8c4",
   "metadata": {},
   "outputs": [],
   "source": [
    "# data cleaning\n",
    "sales = df.copy()"
   ]
  },
  {
   "cell_type": "code",
   "execution_count": 201,
   "id": "4b0b63db",
   "metadata": {},
   "outputs": [
    {
     "data": {
      "text/plain": [
       "Rank              0\n",
       "Name              0\n",
       "Platform          0\n",
       "Year            271\n",
       "Genre             0\n",
       "Publisher        58\n",
       "NA_Sales          0\n",
       "EU_Sales          0\n",
       "JP_Sales          0\n",
       "Other_Sales       0\n",
       "Global_Sales      0\n",
       "dtype: int64"
      ]
     },
     "execution_count": 201,
     "metadata": {},
     "output_type": "execute_result"
    }
   ],
   "source": [
    "sales.isna().sum()\n"
   ]
  },
  {
   "cell_type": "code",
   "execution_count": 202,
   "id": "76c84c11",
   "metadata": {},
   "outputs": [
    {
     "data": {
      "text/plain": [
       "329"
      ]
     },
     "execution_count": 202,
     "metadata": {},
     "output_type": "execute_result"
    }
   ],
   "source": [
    "sales.isna().sum().sum()"
   ]
  },
  {
   "cell_type": "code",
   "execution_count": 203,
   "id": "060fbd83",
   "metadata": {},
   "outputs": [
    {
     "data": {
      "text/plain": [
       "Rank            0\n",
       "Name            0\n",
       "Platform        0\n",
       "Year            0\n",
       "Genre           0\n",
       "Publisher       0\n",
       "NA_Sales        0\n",
       "EU_Sales        0\n",
       "JP_Sales        0\n",
       "Other_Sales     0\n",
       "Global_Sales    0\n",
       "dtype: int64"
      ]
     },
     "execution_count": 203,
     "metadata": {},
     "output_type": "execute_result"
    }
   ],
   "source": [
    "sales.replace(\"nan\", np.nan, inplace=True)\n",
    "sales = sales.dropna()\n",
    "sales.isnull().sum()"
   ]
  },
  {
   "cell_type": "code",
   "execution_count": 204,
   "id": "d49057cc",
   "metadata": {},
   "outputs": [
    {
     "data": {
      "text/plain": [
       "(16291, 11)"
      ]
     },
     "execution_count": 204,
     "metadata": {},
     "output_type": "execute_result"
    }
   ],
   "source": [
    "sales.shape"
   ]
  },
  {
   "cell_type": "code",
   "execution_count": 205,
   "id": "998d355a",
   "metadata": {},
   "outputs": [
    {
     "name": "stdout",
     "output_type": "stream",
     "text": [
      "<class 'pandas.core.frame.DataFrame'>\n",
      "Index: 16291 entries, 0 to 16597\n",
      "Data columns (total 11 columns):\n",
      " #   Column        Non-Null Count  Dtype  \n",
      "---  ------        --------------  -----  \n",
      " 0   Rank          16291 non-null  int64  \n",
      " 1   Name          16291 non-null  object \n",
      " 2   Platform      16291 non-null  object \n",
      " 3   Year          16291 non-null  int32  \n",
      " 4   Genre         16291 non-null  object \n",
      " 5   Publisher     16291 non-null  object \n",
      " 6   NA_Sales      16291 non-null  float64\n",
      " 7   EU_Sales      16291 non-null  float64\n",
      " 8   JP_Sales      16291 non-null  float64\n",
      " 9   Other_Sales   16291 non-null  float64\n",
      " 10  Global_Sales  16291 non-null  float64\n",
      "dtypes: float64(5), int32(1), int64(1), object(4)\n",
      "memory usage: 1.4+ MB\n"
     ]
    }
   ],
   "source": [
    "# Convert data type\n",
    "sales['Year'] = sales['Year'].astype('int32', errors='ignore')\n",
    "sales.info()"
   ]
  },
  {
   "cell_type": "code",
   "execution_count": 206,
   "id": "1a7e004b",
   "metadata": {},
   "outputs": [
    {
     "data": {
      "text/plain": [
       "Rank                                     27\n",
       "Name            Pokemon Black/Pokemon White\n",
       "Platform                                 DS\n",
       "Year                                   2010\n",
       "Genre                          Role-Playing\n",
       "Publisher                          Nintendo\n",
       "NA_Sales                               5.57\n",
       "EU_Sales                               3.28\n",
       "JP_Sales                               5.65\n",
       "Other_Sales                            0.82\n",
       "Global_Sales                          15.32\n",
       "Name: 26, dtype: object"
      ]
     },
     "execution_count": 206,
     "metadata": {},
     "output_type": "execute_result"
    }
   ],
   "source": [
    "sales.iloc[26, :]"
   ]
  },
  {
   "cell_type": "markdown",
   "id": "2893abed",
   "metadata": {},
   "source": [
    "Begining of Prediction, which market should we focus?"
   ]
  },
  {
   "cell_type": "code",
   "execution_count": 207,
   "id": "0f83d636",
   "metadata": {},
   "outputs": [],
   "source": [
    "#data filtering\n",
    "sales_after_2010 = sales[(sales.Year >= 2010) & (sales.Global_Sales > 1)]"
   ]
  },
  {
   "cell_type": "code",
   "execution_count": 208,
   "id": "ba4a7d84",
   "metadata": {},
   "outputs": [],
   "source": [
    "#Number of Gamers in EU, Japan, and North America from Statistia\n",
    "EU_Gamer, JP_Gamer, NA_Gamer, Global_Gamer, Other_Gamer = 215, 74, 285, 3090, 2460 "
   ]
  },
  {
   "cell_type": "code",
   "execution_count": 209,
   "id": "36fad8c2",
   "metadata": {},
   "outputs": [
    {
     "data": {
      "text/plain": [
       "array(['X360', 'PS3', 'DS', '3DS', 'PS4', 'Wii', 'XOne', 'WiiU', 'PC',\n",
       "       'PSP', 'PSV'], dtype=object)"
      ]
     },
     "execution_count": 209,
     "metadata": {},
     "output_type": "execute_result"
    }
   ],
   "source": [
    "#check how many platforms are there\n",
    "sales_after_2010.Platform.unique()"
   ]
  },
  {
   "cell_type": "code",
   "execution_count": 210,
   "id": "33da5745",
   "metadata": {},
   "outputs": [
    {
     "name": "stderr",
     "output_type": "stream",
     "text": [
      "/var/folders/cy/p78z_yd10wb7gttsfxj36gmr0000gn/T/ipykernel_2213/1250304914.py:2: SettingWithCopyWarning: \n",
      "A value is trying to be set on a copy of a slice from a DataFrame.\n",
      "Try using .loc[row_indexer,col_indexer] = value instead\n",
      "\n",
      "See the caveats in the documentation: https://pandas.pydata.org/pandas-docs/stable/user_guide/indexing.html#returning-a-view-versus-a-copy\n",
      "  sales_after_2010['EU_Sales'] = sales_after_2010['EU_Sales']/EU_Gamer\n",
      "/var/folders/cy/p78z_yd10wb7gttsfxj36gmr0000gn/T/ipykernel_2213/1250304914.py:3: SettingWithCopyWarning: \n",
      "A value is trying to be set on a copy of a slice from a DataFrame.\n",
      "Try using .loc[row_indexer,col_indexer] = value instead\n",
      "\n",
      "See the caveats in the documentation: https://pandas.pydata.org/pandas-docs/stable/user_guide/indexing.html#returning-a-view-versus-a-copy\n",
      "  sales_after_2010['NA_Sales'] = sales_after_2010['NA_Sales']/NA_Gamer\n",
      "/var/folders/cy/p78z_yd10wb7gttsfxj36gmr0000gn/T/ipykernel_2213/1250304914.py:4: SettingWithCopyWarning: \n",
      "A value is trying to be set on a copy of a slice from a DataFrame.\n",
      "Try using .loc[row_indexer,col_indexer] = value instead\n",
      "\n",
      "See the caveats in the documentation: https://pandas.pydata.org/pandas-docs/stable/user_guide/indexing.html#returning-a-view-versus-a-copy\n",
      "  sales_after_2010['JP_Sales'] = sales_after_2010['JP_Sales']/JP_Gamer\n",
      "/var/folders/cy/p78z_yd10wb7gttsfxj36gmr0000gn/T/ipykernel_2213/1250304914.py:5: SettingWithCopyWarning: \n",
      "A value is trying to be set on a copy of a slice from a DataFrame.\n",
      "Try using .loc[row_indexer,col_indexer] = value instead\n",
      "\n",
      "See the caveats in the documentation: https://pandas.pydata.org/pandas-docs/stable/user_guide/indexing.html#returning-a-view-versus-a-copy\n",
      "  sales_after_2010['Global_Sales'] = sales_after_2010['Global_Sales']/Global_Gamer\n",
      "/var/folders/cy/p78z_yd10wb7gttsfxj36gmr0000gn/T/ipykernel_2213/1250304914.py:6: SettingWithCopyWarning: \n",
      "A value is trying to be set on a copy of a slice from a DataFrame.\n",
      "Try using .loc[row_indexer,col_indexer] = value instead\n",
      "\n",
      "See the caveats in the documentation: https://pandas.pydata.org/pandas-docs/stable/user_guide/indexing.html#returning-a-view-versus-a-copy\n",
      "  sales_after_2010['Other_Sales'] = sales_after_2010['Other_Sales']/Other_Gamer\n"
     ]
    }
   ],
   "source": [
    "#Normalize Sales by per capita\n",
    "sales_after_2010['EU_Sales'] = sales_after_2010['EU_Sales']/EU_Gamer\n",
    "sales_after_2010['NA_Sales'] = sales_after_2010['NA_Sales']/NA_Gamer\n",
    "sales_after_2010['JP_Sales'] = sales_after_2010['JP_Sales']/JP_Gamer\n",
    "sales_after_2010['Global_Sales'] = sales_after_2010['Global_Sales']/Global_Gamer\n",
    "sales_after_2010['Other_Sales'] = sales_after_2010['Other_Sales']/Other_Gamer"
   ]
  },
  {
   "cell_type": "code",
   "execution_count": 237,
   "id": "b7c773d4",
   "metadata": {},
   "outputs": [
    {
     "data": {
      "text/html": [
       "<div>\n",
       "<style scoped>\n",
       "    .dataframe tbody tr th:only-of-type {\n",
       "        vertical-align: middle;\n",
       "    }\n",
       "\n",
       "    .dataframe tbody tr th {\n",
       "        vertical-align: top;\n",
       "    }\n",
       "\n",
       "    .dataframe thead th {\n",
       "        text-align: right;\n",
       "    }\n",
       "</style>\n",
       "<table border=\"1\" class=\"dataframe\">\n",
       "  <thead>\n",
       "    <tr style=\"text-align: right;\">\n",
       "      <th></th>\n",
       "      <th>Rank</th>\n",
       "      <th>Name</th>\n",
       "      <th>Platform</th>\n",
       "      <th>Year</th>\n",
       "      <th>Genre</th>\n",
       "      <th>Publisher</th>\n",
       "      <th>NA_Sales</th>\n",
       "      <th>EU_Sales</th>\n",
       "      <th>JP_Sales</th>\n",
       "      <th>Other_Sales</th>\n",
       "      <th>Global_Sales</th>\n",
       "      <th>label</th>\n",
       "    </tr>\n",
       "  </thead>\n",
       "  <tbody>\n",
       "    <tr>\n",
       "      <th>15</th>\n",
       "      <td>16</td>\n",
       "      <td>Kinect Adventures!</td>\n",
       "      <td>X360</td>\n",
       "      <td>2010</td>\n",
       "      <td>Misc</td>\n",
       "      <td>Microsoft Game Studios</td>\n",
       "      <td>0.052526</td>\n",
       "      <td>0.022977</td>\n",
       "      <td>0.003243</td>\n",
       "      <td>0.000679</td>\n",
       "      <td>0.007061</td>\n",
       "      <td>0.0</td>\n",
       "    </tr>\n",
       "    <tr>\n",
       "      <th>16</th>\n",
       "      <td>17</td>\n",
       "      <td>Grand Theft Auto V</td>\n",
       "      <td>PS3</td>\n",
       "      <td>2013</td>\n",
       "      <td>Action</td>\n",
       "      <td>Take-Two Interactive</td>\n",
       "      <td>0.024596</td>\n",
       "      <td>0.043116</td>\n",
       "      <td>0.013108</td>\n",
       "      <td>0.001683</td>\n",
       "      <td>0.006926</td>\n",
       "      <td>1.0</td>\n",
       "    </tr>\n",
       "    <tr>\n",
       "      <th>23</th>\n",
       "      <td>24</td>\n",
       "      <td>Grand Theft Auto V</td>\n",
       "      <td>X360</td>\n",
       "      <td>2013</td>\n",
       "      <td>Action</td>\n",
       "      <td>Take-Two Interactive</td>\n",
       "      <td>0.033789</td>\n",
       "      <td>0.024698</td>\n",
       "      <td>0.000811</td>\n",
       "      <td>0.000561</td>\n",
       "      <td>0.005301</td>\n",
       "      <td>0.0</td>\n",
       "    </tr>\n",
       "    <tr>\n",
       "      <th>26</th>\n",
       "      <td>27</td>\n",
       "      <td>Pokemon Black/Pokemon White</td>\n",
       "      <td>DS</td>\n",
       "      <td>2010</td>\n",
       "      <td>Role-Playing</td>\n",
       "      <td>Nintendo</td>\n",
       "      <td>0.019544</td>\n",
       "      <td>0.015256</td>\n",
       "      <td>0.076351</td>\n",
       "      <td>0.000333</td>\n",
       "      <td>0.004958</td>\n",
       "      <td>2.0</td>\n",
       "    </tr>\n",
       "    <tr>\n",
       "      <th>29</th>\n",
       "      <td>30</td>\n",
       "      <td>Call of Duty: Modern Warfare 3</td>\n",
       "      <td>X360</td>\n",
       "      <td>2011</td>\n",
       "      <td>Shooter</td>\n",
       "      <td>Activision</td>\n",
       "      <td>0.031684</td>\n",
       "      <td>0.019907</td>\n",
       "      <td>0.001757</td>\n",
       "      <td>0.000537</td>\n",
       "      <td>0.004777</td>\n",
       "      <td>0.0</td>\n",
       "    </tr>\n",
       "    <tr>\n",
       "      <th>...</th>\n",
       "      <td>...</td>\n",
       "      <td>...</td>\n",
       "      <td>...</td>\n",
       "      <td>...</td>\n",
       "      <td>...</td>\n",
       "      <td>...</td>\n",
       "      <td>...</td>\n",
       "      <td>...</td>\n",
       "      <td>...</td>\n",
       "      <td>...</td>\n",
       "      <td>...</td>\n",
       "      <td>...</td>\n",
       "    </tr>\n",
       "    <tr>\n",
       "      <th>2043</th>\n",
       "      <td>2045</td>\n",
       "      <td>God of War: Ghost of Sparta</td>\n",
       "      <td>PSP</td>\n",
       "      <td>2010</td>\n",
       "      <td>Action</td>\n",
       "      <td>Sony Computer Entertainment</td>\n",
       "      <td>0.001439</td>\n",
       "      <td>0.001674</td>\n",
       "      <td>0.000405</td>\n",
       "      <td>0.000085</td>\n",
       "      <td>0.000327</td>\n",
       "      <td>1.0</td>\n",
       "    </tr>\n",
       "    <tr>\n",
       "      <th>2044</th>\n",
       "      <td>2046</td>\n",
       "      <td>Sonic Generations</td>\n",
       "      <td>3DS</td>\n",
       "      <td>2011</td>\n",
       "      <td>Platform</td>\n",
       "      <td>Sega</td>\n",
       "      <td>0.001544</td>\n",
       "      <td>0.002140</td>\n",
       "      <td>0.000135</td>\n",
       "      <td>0.000037</td>\n",
       "      <td>0.000327</td>\n",
       "      <td>1.0</td>\n",
       "    </tr>\n",
       "    <tr>\n",
       "      <th>2048</th>\n",
       "      <td>2050</td>\n",
       "      <td>Guitar Hero: Warriors of Rock</td>\n",
       "      <td>Wii</td>\n",
       "      <td>2010</td>\n",
       "      <td>Misc</td>\n",
       "      <td>Activision</td>\n",
       "      <td>0.001684</td>\n",
       "      <td>0.002047</td>\n",
       "      <td>0.000000</td>\n",
       "      <td>0.000037</td>\n",
       "      <td>0.000327</td>\n",
       "      <td>1.0</td>\n",
       "    </tr>\n",
       "    <tr>\n",
       "      <th>2051</th>\n",
       "      <td>2053</td>\n",
       "      <td>The LEGO Movie Videogame</td>\n",
       "      <td>PS3</td>\n",
       "      <td>2014</td>\n",
       "      <td>Action</td>\n",
       "      <td>Warner Bros. Interactive Entertainment</td>\n",
       "      <td>0.001158</td>\n",
       "      <td>0.002233</td>\n",
       "      <td>0.000270</td>\n",
       "      <td>0.000073</td>\n",
       "      <td>0.000327</td>\n",
       "      <td>1.0</td>\n",
       "    </tr>\n",
       "    <tr>\n",
       "      <th>2053</th>\n",
       "      <td>2055</td>\n",
       "      <td>Rayman Legends</td>\n",
       "      <td>PS4</td>\n",
       "      <td>2014</td>\n",
       "      <td>Platform</td>\n",
       "      <td>Ubisoft</td>\n",
       "      <td>0.000737</td>\n",
       "      <td>0.002837</td>\n",
       "      <td>0.000000</td>\n",
       "      <td>0.000073</td>\n",
       "      <td>0.000327</td>\n",
       "      <td>1.0</td>\n",
       "    </tr>\n",
       "  </tbody>\n",
       "</table>\n",
       "<p>562 rows × 12 columns</p>\n",
       "</div>"
      ],
      "text/plain": [
       "      Rank                            Name Platform  Year         Genre  \\\n",
       "15      16              Kinect Adventures!     X360  2010          Misc   \n",
       "16      17              Grand Theft Auto V      PS3  2013        Action   \n",
       "23      24              Grand Theft Auto V     X360  2013        Action   \n",
       "26      27     Pokemon Black/Pokemon White       DS  2010  Role-Playing   \n",
       "29      30  Call of Duty: Modern Warfare 3     X360  2011       Shooter   \n",
       "...    ...                             ...      ...   ...           ...   \n",
       "2043  2045     God of War: Ghost of Sparta      PSP  2010        Action   \n",
       "2044  2046               Sonic Generations      3DS  2011      Platform   \n",
       "2048  2050   Guitar Hero: Warriors of Rock      Wii  2010          Misc   \n",
       "2051  2053        The LEGO Movie Videogame      PS3  2014        Action   \n",
       "2053  2055                  Rayman Legends      PS4  2014      Platform   \n",
       "\n",
       "                                   Publisher  NA_Sales  EU_Sales  JP_Sales  \\\n",
       "15                    Microsoft Game Studios  0.052526  0.022977  0.003243   \n",
       "16                      Take-Two Interactive  0.024596  0.043116  0.013108   \n",
       "23                      Take-Two Interactive  0.033789  0.024698  0.000811   \n",
       "26                                  Nintendo  0.019544  0.015256  0.076351   \n",
       "29                                Activision  0.031684  0.019907  0.001757   \n",
       "...                                      ...       ...       ...       ...   \n",
       "2043             Sony Computer Entertainment  0.001439  0.001674  0.000405   \n",
       "2044                                    Sega  0.001544  0.002140  0.000135   \n",
       "2048                              Activision  0.001684  0.002047  0.000000   \n",
       "2051  Warner Bros. Interactive Entertainment  0.001158  0.002233  0.000270   \n",
       "2053                                 Ubisoft  0.000737  0.002837  0.000000   \n",
       "\n",
       "      Other_Sales  Global_Sales  label  \n",
       "15       0.000679      0.007061    0.0  \n",
       "16       0.001683      0.006926    1.0  \n",
       "23       0.000561      0.005301    0.0  \n",
       "26       0.000333      0.004958    2.0  \n",
       "29       0.000537      0.004777    0.0  \n",
       "...           ...           ...    ...  \n",
       "2043     0.000085      0.000327    1.0  \n",
       "2044     0.000037      0.000327    1.0  \n",
       "2048     0.000037      0.000327    1.0  \n",
       "2051     0.000073      0.000327    1.0  \n",
       "2053     0.000073      0.000327    1.0  \n",
       "\n",
       "[562 rows x 12 columns]"
      ]
     },
     "execution_count": 237,
     "metadata": {},
     "output_type": "execute_result"
    }
   ],
   "source": [
    "sales_after_2010"
   ]
  },
  {
   "cell_type": "code",
   "execution_count": 238,
   "id": "048bc81f",
   "metadata": {},
   "outputs": [
    {
     "data": {
      "text/plain": [
       "array(['X360', 'PS3', 'DS', '3DS', 'PS4', 'Wii', 'XOne', 'WiiU', 'PC',\n",
       "       'PSP', 'PSV'], dtype=object)"
      ]
     },
     "execution_count": 238,
     "metadata": {},
     "output_type": "execute_result"
    }
   ],
   "source": [
    "sales_after_2010.Platform.unique()"
   ]
  },
  {
   "cell_type": "code",
   "execution_count": 239,
   "id": "11af4a5f",
   "metadata": {},
   "outputs": [
    {
     "name": "stderr",
     "output_type": "stream",
     "text": [
      "/var/folders/cy/p78z_yd10wb7gttsfxj36gmr0000gn/T/ipykernel_2213/3007792869.py:2: SettingWithCopyWarning: \n",
      "A value is trying to be set on a copy of a slice from a DataFrame.\n",
      "Try using .loc[row_indexer,col_indexer] = value instead\n",
      "\n",
      "See the caveats in the documentation: https://pandas.pydata.org/pandas-docs/stable/user_guide/indexing.html#returning-a-view-versus-a-copy\n",
      "  sales_after_2010['label'] = sales_after_2010[['NA_Sales', 'EU_Sales', 'JP_Sales']].max(axis=1)\n"
     ]
    }
   ],
   "source": [
    "#find the \n",
    "sales_after_2010['label'] = sales_after_2010[['NA_Sales', 'EU_Sales', 'JP_Sales']].max(axis=1)"
   ]
  },
  {
   "cell_type": "code",
   "execution_count": 240,
   "id": "16cbac37",
   "metadata": {},
   "outputs": [],
   "source": [
    "#create label for each game's per capita top-sale market\n",
    "for i in range(len(sales_after_2010)):\n",
    "    if sales_after_2010.iloc[i, sales_after_2010.columns.get_loc('label')] ==sales_after_2010.iloc[i, sales_after_2010.columns.get_loc('NA_Sales')]:\n",
    "        sales_after_2010.iloc[i, sales_after_2010.columns.get_loc('label')] = 0\n",
    "    elif sales_after_2010.iloc[i, sales_after_2010.columns.get_loc('label')] ==sales_after_2010.iloc[i, sales_after_2010.columns.get_loc('EU_Sales')]:\n",
    "        sales_after_2010.iloc[i, sales_after_2010.columns.get_loc('label')] = 1\n",
    "    elif sales_after_2010.iloc[i, sales_after_2010.columns.get_loc('label')] ==sales_after_2010.iloc[i, sales_after_2010.columns.get_loc('JP_Sales')]:\n",
    "        sales_after_2010.iloc[i, sales_after_2010.columns.get_loc('label')] = 2"
   ]
  },
  {
   "cell_type": "code",
   "execution_count": 241,
   "id": "d354d974",
   "metadata": {},
   "outputs": [
    {
     "data": {
      "text/plain": [
       "array([2010, 2013, 2011, 2015, 2012, 2014, 2016], dtype=int32)"
      ]
     },
     "execution_count": 241,
     "metadata": {},
     "output_type": "execute_result"
    }
   ],
   "source": [
    "sales_after_2010.Year.unique()"
   ]
  },
  {
   "cell_type": "code",
   "execution_count": 242,
   "id": "83b81c25",
   "metadata": {},
   "outputs": [],
   "source": [
    "from pandas import get_dummies\n",
    "from sklearn.model_selection import train_test_split\n",
    "from sklearn.ensemble import RandomForestClassifier\n",
    "from sklearn.datasets import make_classification"
   ]
  },
  {
   "cell_type": "code",
   "execution_count": 243,
   "id": "b16c6d01",
   "metadata": {},
   "outputs": [
    {
     "name": "stdout",
     "output_type": "stream",
     "text": [
      "231\n",
      "233\n",
      "98\n"
     ]
    }
   ],
   "source": [
    "sales_2010 = sales_after_2010.drop(['Name','NA_Sales', 'EU_Sales', 'JP_Sales', 'Global_Sales', 'Other_Sales', 'Rank'], axis = 1)\n",
    "#add the game property we want to predict before get_dummies\n",
    "sales_2010.loc[len(df)] = ['X360', 2016, 'Action', 'Nintendo', 1]\n",
    "sales_2010 = get_dummies(sales_2010)\n",
    "X_pred = sales_2010.iloc[-1, :].drop('label')\n",
    "sales_2010 = sales_2010.iloc[:-1, :]\n",
    "#find the number of label for each market\n",
    "print(np.count_nonzero(sales_2010.label == 0))\n",
    "print(np.count_nonzero(sales_2010.label == 1))\n",
    "print(np.count_nonzero(sales_2010.label == 2))"
   ]
  },
  {
   "cell_type": "code",
   "execution_count": 244,
   "id": "87a0e718",
   "metadata": {},
   "outputs": [
    {
     "data": {
      "text/html": [
       "<div>\n",
       "<style scoped>\n",
       "    .dataframe tbody tr th:only-of-type {\n",
       "        vertical-align: middle;\n",
       "    }\n",
       "\n",
       "    .dataframe tbody tr th {\n",
       "        vertical-align: top;\n",
       "    }\n",
       "\n",
       "    .dataframe thead th {\n",
       "        text-align: right;\n",
       "    }\n",
       "</style>\n",
       "<table border=\"1\" class=\"dataframe\">\n",
       "  <thead>\n",
       "    <tr style=\"text-align: right;\">\n",
       "      <th></th>\n",
       "      <th>Year</th>\n",
       "      <th>label</th>\n",
       "      <th>Platform_3DS</th>\n",
       "      <th>Platform_DS</th>\n",
       "      <th>Platform_PC</th>\n",
       "      <th>Platform_PS3</th>\n",
       "      <th>Platform_PS4</th>\n",
       "      <th>Platform_PSP</th>\n",
       "      <th>Platform_PSV</th>\n",
       "      <th>Platform_Wii</th>\n",
       "      <th>...</th>\n",
       "      <th>Publisher_Slightly Mad Studios</th>\n",
       "      <th>Publisher_Sony Computer Entertainment</th>\n",
       "      <th>Publisher_Sony Computer Entertainment Europe</th>\n",
       "      <th>Publisher_Square Enix</th>\n",
       "      <th>Publisher_THQ</th>\n",
       "      <th>Publisher_Take-Two Interactive</th>\n",
       "      <th>Publisher_Ubisoft</th>\n",
       "      <th>Publisher_Valve</th>\n",
       "      <th>Publisher_Valve Software</th>\n",
       "      <th>Publisher_Warner Bros. Interactive Entertainment</th>\n",
       "    </tr>\n",
       "  </thead>\n",
       "  <tbody>\n",
       "    <tr>\n",
       "      <th>15</th>\n",
       "      <td>2010</td>\n",
       "      <td>0.0</td>\n",
       "      <td>False</td>\n",
       "      <td>False</td>\n",
       "      <td>False</td>\n",
       "      <td>False</td>\n",
       "      <td>False</td>\n",
       "      <td>False</td>\n",
       "      <td>False</td>\n",
       "      <td>False</td>\n",
       "      <td>...</td>\n",
       "      <td>False</td>\n",
       "      <td>False</td>\n",
       "      <td>False</td>\n",
       "      <td>False</td>\n",
       "      <td>False</td>\n",
       "      <td>False</td>\n",
       "      <td>False</td>\n",
       "      <td>False</td>\n",
       "      <td>False</td>\n",
       "      <td>False</td>\n",
       "    </tr>\n",
       "    <tr>\n",
       "      <th>16</th>\n",
       "      <td>2013</td>\n",
       "      <td>1.0</td>\n",
       "      <td>False</td>\n",
       "      <td>False</td>\n",
       "      <td>False</td>\n",
       "      <td>True</td>\n",
       "      <td>False</td>\n",
       "      <td>False</td>\n",
       "      <td>False</td>\n",
       "      <td>False</td>\n",
       "      <td>...</td>\n",
       "      <td>False</td>\n",
       "      <td>False</td>\n",
       "      <td>False</td>\n",
       "      <td>False</td>\n",
       "      <td>False</td>\n",
       "      <td>True</td>\n",
       "      <td>False</td>\n",
       "      <td>False</td>\n",
       "      <td>False</td>\n",
       "      <td>False</td>\n",
       "    </tr>\n",
       "    <tr>\n",
       "      <th>23</th>\n",
       "      <td>2013</td>\n",
       "      <td>0.0</td>\n",
       "      <td>False</td>\n",
       "      <td>False</td>\n",
       "      <td>False</td>\n",
       "      <td>False</td>\n",
       "      <td>False</td>\n",
       "      <td>False</td>\n",
       "      <td>False</td>\n",
       "      <td>False</td>\n",
       "      <td>...</td>\n",
       "      <td>False</td>\n",
       "      <td>False</td>\n",
       "      <td>False</td>\n",
       "      <td>False</td>\n",
       "      <td>False</td>\n",
       "      <td>True</td>\n",
       "      <td>False</td>\n",
       "      <td>False</td>\n",
       "      <td>False</td>\n",
       "      <td>False</td>\n",
       "    </tr>\n",
       "    <tr>\n",
       "      <th>26</th>\n",
       "      <td>2010</td>\n",
       "      <td>2.0</td>\n",
       "      <td>False</td>\n",
       "      <td>True</td>\n",
       "      <td>False</td>\n",
       "      <td>False</td>\n",
       "      <td>False</td>\n",
       "      <td>False</td>\n",
       "      <td>False</td>\n",
       "      <td>False</td>\n",
       "      <td>...</td>\n",
       "      <td>False</td>\n",
       "      <td>False</td>\n",
       "      <td>False</td>\n",
       "      <td>False</td>\n",
       "      <td>False</td>\n",
       "      <td>False</td>\n",
       "      <td>False</td>\n",
       "      <td>False</td>\n",
       "      <td>False</td>\n",
       "      <td>False</td>\n",
       "    </tr>\n",
       "    <tr>\n",
       "      <th>29</th>\n",
       "      <td>2011</td>\n",
       "      <td>0.0</td>\n",
       "      <td>False</td>\n",
       "      <td>False</td>\n",
       "      <td>False</td>\n",
       "      <td>False</td>\n",
       "      <td>False</td>\n",
       "      <td>False</td>\n",
       "      <td>False</td>\n",
       "      <td>False</td>\n",
       "      <td>...</td>\n",
       "      <td>False</td>\n",
       "      <td>False</td>\n",
       "      <td>False</td>\n",
       "      <td>False</td>\n",
       "      <td>False</td>\n",
       "      <td>False</td>\n",
       "      <td>False</td>\n",
       "      <td>False</td>\n",
       "      <td>False</td>\n",
       "      <td>False</td>\n",
       "    </tr>\n",
       "    <tr>\n",
       "      <th>...</th>\n",
       "      <td>...</td>\n",
       "      <td>...</td>\n",
       "      <td>...</td>\n",
       "      <td>...</td>\n",
       "      <td>...</td>\n",
       "      <td>...</td>\n",
       "      <td>...</td>\n",
       "      <td>...</td>\n",
       "      <td>...</td>\n",
       "      <td>...</td>\n",
       "      <td>...</td>\n",
       "      <td>...</td>\n",
       "      <td>...</td>\n",
       "      <td>...</td>\n",
       "      <td>...</td>\n",
       "      <td>...</td>\n",
       "      <td>...</td>\n",
       "      <td>...</td>\n",
       "      <td>...</td>\n",
       "      <td>...</td>\n",
       "      <td>...</td>\n",
       "    </tr>\n",
       "    <tr>\n",
       "      <th>2043</th>\n",
       "      <td>2010</td>\n",
       "      <td>1.0</td>\n",
       "      <td>False</td>\n",
       "      <td>False</td>\n",
       "      <td>False</td>\n",
       "      <td>False</td>\n",
       "      <td>False</td>\n",
       "      <td>True</td>\n",
       "      <td>False</td>\n",
       "      <td>False</td>\n",
       "      <td>...</td>\n",
       "      <td>False</td>\n",
       "      <td>True</td>\n",
       "      <td>False</td>\n",
       "      <td>False</td>\n",
       "      <td>False</td>\n",
       "      <td>False</td>\n",
       "      <td>False</td>\n",
       "      <td>False</td>\n",
       "      <td>False</td>\n",
       "      <td>False</td>\n",
       "    </tr>\n",
       "    <tr>\n",
       "      <th>2044</th>\n",
       "      <td>2011</td>\n",
       "      <td>1.0</td>\n",
       "      <td>True</td>\n",
       "      <td>False</td>\n",
       "      <td>False</td>\n",
       "      <td>False</td>\n",
       "      <td>False</td>\n",
       "      <td>False</td>\n",
       "      <td>False</td>\n",
       "      <td>False</td>\n",
       "      <td>...</td>\n",
       "      <td>False</td>\n",
       "      <td>False</td>\n",
       "      <td>False</td>\n",
       "      <td>False</td>\n",
       "      <td>False</td>\n",
       "      <td>False</td>\n",
       "      <td>False</td>\n",
       "      <td>False</td>\n",
       "      <td>False</td>\n",
       "      <td>False</td>\n",
       "    </tr>\n",
       "    <tr>\n",
       "      <th>2048</th>\n",
       "      <td>2010</td>\n",
       "      <td>1.0</td>\n",
       "      <td>False</td>\n",
       "      <td>False</td>\n",
       "      <td>False</td>\n",
       "      <td>False</td>\n",
       "      <td>False</td>\n",
       "      <td>False</td>\n",
       "      <td>False</td>\n",
       "      <td>True</td>\n",
       "      <td>...</td>\n",
       "      <td>False</td>\n",
       "      <td>False</td>\n",
       "      <td>False</td>\n",
       "      <td>False</td>\n",
       "      <td>False</td>\n",
       "      <td>False</td>\n",
       "      <td>False</td>\n",
       "      <td>False</td>\n",
       "      <td>False</td>\n",
       "      <td>False</td>\n",
       "    </tr>\n",
       "    <tr>\n",
       "      <th>2051</th>\n",
       "      <td>2014</td>\n",
       "      <td>1.0</td>\n",
       "      <td>False</td>\n",
       "      <td>False</td>\n",
       "      <td>False</td>\n",
       "      <td>True</td>\n",
       "      <td>False</td>\n",
       "      <td>False</td>\n",
       "      <td>False</td>\n",
       "      <td>False</td>\n",
       "      <td>...</td>\n",
       "      <td>False</td>\n",
       "      <td>False</td>\n",
       "      <td>False</td>\n",
       "      <td>False</td>\n",
       "      <td>False</td>\n",
       "      <td>False</td>\n",
       "      <td>False</td>\n",
       "      <td>False</td>\n",
       "      <td>False</td>\n",
       "      <td>True</td>\n",
       "    </tr>\n",
       "    <tr>\n",
       "      <th>2053</th>\n",
       "      <td>2014</td>\n",
       "      <td>1.0</td>\n",
       "      <td>False</td>\n",
       "      <td>False</td>\n",
       "      <td>False</td>\n",
       "      <td>False</td>\n",
       "      <td>True</td>\n",
       "      <td>False</td>\n",
       "      <td>False</td>\n",
       "      <td>False</td>\n",
       "      <td>...</td>\n",
       "      <td>False</td>\n",
       "      <td>False</td>\n",
       "      <td>False</td>\n",
       "      <td>False</td>\n",
       "      <td>False</td>\n",
       "      <td>False</td>\n",
       "      <td>True</td>\n",
       "      <td>False</td>\n",
       "      <td>False</td>\n",
       "      <td>False</td>\n",
       "    </tr>\n",
       "  </tbody>\n",
       "</table>\n",
       "<p>562 rows × 59 columns</p>\n",
       "</div>"
      ],
      "text/plain": [
       "      Year  label  Platform_3DS  Platform_DS  Platform_PC  Platform_PS3  \\\n",
       "15    2010    0.0         False        False        False         False   \n",
       "16    2013    1.0         False        False        False          True   \n",
       "23    2013    0.0         False        False        False         False   \n",
       "26    2010    2.0         False         True        False         False   \n",
       "29    2011    0.0         False        False        False         False   \n",
       "...    ...    ...           ...          ...          ...           ...   \n",
       "2043  2010    1.0         False        False        False         False   \n",
       "2044  2011    1.0          True        False        False         False   \n",
       "2048  2010    1.0         False        False        False         False   \n",
       "2051  2014    1.0         False        False        False          True   \n",
       "2053  2014    1.0         False        False        False         False   \n",
       "\n",
       "      Platform_PS4  Platform_PSP  Platform_PSV  Platform_Wii  ...  \\\n",
       "15           False         False         False         False  ...   \n",
       "16           False         False         False         False  ...   \n",
       "23           False         False         False         False  ...   \n",
       "26           False         False         False         False  ...   \n",
       "29           False         False         False         False  ...   \n",
       "...            ...           ...           ...           ...  ...   \n",
       "2043         False          True         False         False  ...   \n",
       "2044         False         False         False         False  ...   \n",
       "2048         False         False         False          True  ...   \n",
       "2051         False         False         False         False  ...   \n",
       "2053          True         False         False         False  ...   \n",
       "\n",
       "      Publisher_Slightly Mad Studios  Publisher_Sony Computer Entertainment  \\\n",
       "15                             False                                  False   \n",
       "16                             False                                  False   \n",
       "23                             False                                  False   \n",
       "26                             False                                  False   \n",
       "29                             False                                  False   \n",
       "...                              ...                                    ...   \n",
       "2043                           False                                   True   \n",
       "2044                           False                                  False   \n",
       "2048                           False                                  False   \n",
       "2051                           False                                  False   \n",
       "2053                           False                                  False   \n",
       "\n",
       "      Publisher_Sony Computer Entertainment Europe  Publisher_Square Enix  \\\n",
       "15                                           False                  False   \n",
       "16                                           False                  False   \n",
       "23                                           False                  False   \n",
       "26                                           False                  False   \n",
       "29                                           False                  False   \n",
       "...                                            ...                    ...   \n",
       "2043                                         False                  False   \n",
       "2044                                         False                  False   \n",
       "2048                                         False                  False   \n",
       "2051                                         False                  False   \n",
       "2053                                         False                  False   \n",
       "\n",
       "      Publisher_THQ  Publisher_Take-Two Interactive  Publisher_Ubisoft  \\\n",
       "15            False                           False              False   \n",
       "16            False                            True              False   \n",
       "23            False                            True              False   \n",
       "26            False                           False              False   \n",
       "29            False                           False              False   \n",
       "...             ...                             ...                ...   \n",
       "2043          False                           False              False   \n",
       "2044          False                           False              False   \n",
       "2048          False                           False              False   \n",
       "2051          False                           False              False   \n",
       "2053          False                           False               True   \n",
       "\n",
       "      Publisher_Valve  Publisher_Valve Software  \\\n",
       "15              False                     False   \n",
       "16              False                     False   \n",
       "23              False                     False   \n",
       "26              False                     False   \n",
       "29              False                     False   \n",
       "...               ...                       ...   \n",
       "2043            False                     False   \n",
       "2044            False                     False   \n",
       "2048            False                     False   \n",
       "2051            False                     False   \n",
       "2053            False                     False   \n",
       "\n",
       "      Publisher_Warner Bros. Interactive Entertainment  \n",
       "15                                               False  \n",
       "16                                               False  \n",
       "23                                               False  \n",
       "26                                               False  \n",
       "29                                               False  \n",
       "...                                                ...  \n",
       "2043                                             False  \n",
       "2044                                             False  \n",
       "2048                                             False  \n",
       "2051                                              True  \n",
       "2053                                             False  \n",
       "\n",
       "[562 rows x 59 columns]"
      ]
     },
     "execution_count": 244,
     "metadata": {},
     "output_type": "execute_result"
    }
   ],
   "source": [
    "sales_2010"
   ]
  },
  {
   "cell_type": "code",
   "execution_count": 245,
   "id": "e244f16a",
   "metadata": {},
   "outputs": [],
   "source": [
    "#Define the input(X) and output(y) of the model \n",
    "y = sales_2010['label'].values\n",
    "X = sales_2010.drop(['label'], axis = 1).values\n",
    "#Use built-in train_test_split in sklearn to split the data, 70% train, 30% test\n",
    "Xtrain, Xtest, ytrain, ytest = train_test_split(X, y, test_size = 0.70, random_state = 20)"
   ]
  },
  {
   "cell_type": "code",
   "execution_count": 269,
   "id": "44bea138",
   "metadata": {},
   "outputs": [
    {
     "name": "stdout",
     "output_type": "stream",
     "text": [
      "Validation accuracy:  0.7157360406091371\n"
     ]
    }
   ],
   "source": [
    "#Build a random forest classifier using Sklearn, fit the model, and predict label\n",
    "RDF_1 = RandomForestClassifier(random_state = 8).fit(Xtrain, ytrain)\n",
    "y_val = RDF_1.predict_proba(Xtest)\n",
    "print(\"Validation accuracy: \", sum(pd.DataFrame(y_val).idxmax(axis=1).values == ytest ) / len(ytest) )"
   ]
  },
  {
   "cell_type": "code",
   "execution_count": 236,
   "id": "349330d4",
   "metadata": {},
   "outputs": [
    {
     "data": {
      "text/plain": [
       "(58,)"
      ]
     },
     "execution_count": 236,
     "metadata": {},
     "output_type": "execute_result"
    }
   ],
   "source": [
    "Xtrain[-1].shape"
   ]
  },
  {
   "cell_type": "code",
   "execution_count": 222,
   "id": "c4c78c74",
   "metadata": {},
   "outputs": [],
   "source": [
    "#Make the prediction for video game with 'X360', 2016, 'Action', 'Nintendo' properties \n",
    "X_pred = np.array(X_pred)"
   ]
  },
  {
   "cell_type": "code",
   "execution_count": 223,
   "id": "1086bd84",
   "metadata": {},
   "outputs": [],
   "source": [
    "X_pred = X_pred.reshape(1, 58)"
   ]
  },
  {
   "cell_type": "code",
   "execution_count": 224,
   "id": "c1bd5185",
   "metadata": {},
   "outputs": [],
   "source": [
    "y_pred = RDF_1.predict_proba(X_pred)"
   ]
  },
  {
   "cell_type": "code",
   "execution_count": 225,
   "id": "07a37d18",
   "metadata": {},
   "outputs": [
    {
     "data": {
      "text/plain": [
       "array([[0.64, 0.1 , 0.26]])"
      ]
     },
     "execution_count": 225,
     "metadata": {},
     "output_type": "execute_result"
    }
   ],
   "source": [
    "y_pred"
   ]
  },
  {
   "cell_type": "code",
   "execution_count": null,
   "id": "78314f85",
   "metadata": {},
   "outputs": [],
   "source": []
  }
 ],
 "metadata": {
  "kernelspec": {
   "display_name": "Python 3 (ipykernel)",
   "language": "python",
   "name": "python3"
  },
  "language_info": {
   "codemirror_mode": {
    "name": "ipython",
    "version": 3
   },
   "file_extension": ".py",
   "mimetype": "text/x-python",
   "name": "python",
   "nbconvert_exporter": "python",
   "pygments_lexer": "ipython3",
   "version": "3.11.5"
  }
 },
 "nbformat": 4,
 "nbformat_minor": 5
}
